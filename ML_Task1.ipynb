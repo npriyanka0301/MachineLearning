{
 "cells": [
  {
   "cell_type": "markdown",
   "id": "adffa0ac",
   "metadata": {},
   "source": [
    "# TASK:\n",
    "    KNN FROM SCRATCH\n",
    "\n",
    "MACHINE LEARNING TASKS\n",
    "\n",
    "INNOMATICS RESEARCH LABS\n",
    "\n",
    "N.PRIYANKA\n"
   ]
  },
  {
   "cell_type": "markdown",
   "id": "a8474d67",
   "metadata": {},
   "source": [
    "# Task  Problem Type: Regression\n",
    "Predict the diamond price.💎\n",
    "Write the KNN code from scratch and make it work on the given dataset ?\n",
    "\n",
    "\n",
    "\n",
    "DATASET DESCRIPTION\n",
    "1. Title : Diamonds Dataset\n",
    "\n",
    "2. the 7th column \"price\" is the values to be predicted.\n",
    "\n",
    "3. Data Type : Mixed ( Numerical + Categorical)\n",
    "\t\n",
    "4. Dataset has nearly 54000 instances.\n",
    "\n",
    "5. It has 10 features.\n",
    "\n",
    "6. Features \n",
    "\n",
    "\tprice : price in US dollars (\\$326--\\$18,823)\n",
    "\n",
    "\tcarat : weight of the diamond (0.2--5.01)\n",
    "\n",
    "\tcut   : quality of the cut (Fair, Good, Very Good, Premium, Ideal)\n",
    "\n",
    "\tcolor : diamond colour, from J (worst) to D (best)\n",
    "\n",
    "\tclarity : a measurement of how clear the diamond is (I1 (worst), SI2, SI1, VS2, VS1, VVS2, VVS1, IF (best))\n",
    "\n",
    "\tx : length in mm (0--10.74)\n",
    "\n",
    "\ty : width in mm (0--58.9)\n",
    "\n",
    "\tz : depth in mm (0--31.8)\n",
    "\n",
    "\tdepth : total depth percentage = z / mean(x, y) = 2 * z / (x + y) (43--79)\n",
    "\n",
    "\ttable : width of top of diamond relative to widest point (43--95)\n",
    "\n",
    "7. Caution : Handle Categorical data before building a model. \n",
    "\n",
    "\n",
    "\n"
   ]
  },
  {
   "cell_type": "markdown",
   "id": "4e160373",
   "metadata": {},
   "source": [
    "# Step - 1: \n",
    "Load the data"
   ]
  },
  {
   "cell_type": "code",
   "execution_count": 1,
   "id": "40a5f0f8",
   "metadata": {},
   "outputs": [],
   "source": [
    "# Importing necessary libraries\n",
    "from scipy import stats\n",
    "import pandas as pd\n",
    "import numpy as np\n",
    "import seaborn as sns\n",
    "import warnings\n",
    "warnings.filterwarnings(\"ignore\")\n",
    "import plotly.offline as py\n",
    "import plotly.graph_objs as go\n",
    "import plotly.tools as tls\n",
    "import matplotlib.pyplot as plt\n",
    "%matplotlib inline\n",
    "import matplotlib.pyplot as pplt \n",
    "import statsmodels.api as sm\n",
    "from scipy.stats import mode\n",
    "from random import randrange\n",
    "from sklearn.metrics import mean_squared_error, mean_absolute_error, r2_score\n",
    "import math\n",
    "import operator\n",
    "from sklearn.preprocessing import StandardScaler, OneHotEncoder, LabelEncoder\n",
    "from sklearn.impute import SimpleImputer\n",
    "from sklearn.metrics import accuracy_score, recall_score, precision_score, f1_score,classification_report\n",
    "\n",
    "from sklearn.model_selection import train_test_split"
   ]
  },
  {
   "cell_type": "code",
   "execution_count": 2,
   "id": "ac473c12",
   "metadata": {},
   "outputs": [],
   "source": [
    "# Reading the data\n",
    "\n",
    "data = pd.read_csv('diamonds.csv')"
   ]
  },
  {
   "cell_type": "code",
   "execution_count": 3,
   "id": "934af384",
   "metadata": {},
   "outputs": [
    {
     "data": {
      "text/plain": [
       "(53940, 10)"
      ]
     },
     "execution_count": 3,
     "metadata": {},
     "output_type": "execute_result"
    }
   ],
   "source": [
    "# Looking at the shape of the data\n",
    "\n",
    "data.shape"
   ]
  },
  {
   "cell_type": "code",
   "execution_count": 4,
   "id": "9a1afcc0",
   "metadata": {},
   "outputs": [
    {
     "data": {
      "text/html": [
       "<div>\n",
       "<style scoped>\n",
       "    .dataframe tbody tr th:only-of-type {\n",
       "        vertical-align: middle;\n",
       "    }\n",
       "\n",
       "    .dataframe tbody tr th {\n",
       "        vertical-align: top;\n",
       "    }\n",
       "\n",
       "    .dataframe thead th {\n",
       "        text-align: right;\n",
       "    }\n",
       "</style>\n",
       "<table border=\"1\" class=\"dataframe\">\n",
       "  <thead>\n",
       "    <tr style=\"text-align: right;\">\n",
       "      <th></th>\n",
       "      <th>carat</th>\n",
       "      <th>cut</th>\n",
       "      <th>color</th>\n",
       "      <th>clarity</th>\n",
       "      <th>depth</th>\n",
       "      <th>table</th>\n",
       "      <th>price</th>\n",
       "      <th>x</th>\n",
       "      <th>y</th>\n",
       "      <th>z</th>\n",
       "    </tr>\n",
       "  </thead>\n",
       "  <tbody>\n",
       "    <tr>\n",
       "      <th>0</th>\n",
       "      <td>0.23</td>\n",
       "      <td>Ideal</td>\n",
       "      <td>E</td>\n",
       "      <td>SI2</td>\n",
       "      <td>61.5</td>\n",
       "      <td>55.0</td>\n",
       "      <td>326</td>\n",
       "      <td>3.95</td>\n",
       "      <td>3.98</td>\n",
       "      <td>2.43</td>\n",
       "    </tr>\n",
       "    <tr>\n",
       "      <th>1</th>\n",
       "      <td>0.21</td>\n",
       "      <td>Premium</td>\n",
       "      <td>E</td>\n",
       "      <td>SI1</td>\n",
       "      <td>59.8</td>\n",
       "      <td>61.0</td>\n",
       "      <td>326</td>\n",
       "      <td>3.89</td>\n",
       "      <td>3.84</td>\n",
       "      <td>2.31</td>\n",
       "    </tr>\n",
       "    <tr>\n",
       "      <th>2</th>\n",
       "      <td>0.23</td>\n",
       "      <td>Good</td>\n",
       "      <td>E</td>\n",
       "      <td>VS1</td>\n",
       "      <td>56.9</td>\n",
       "      <td>65.0</td>\n",
       "      <td>327</td>\n",
       "      <td>4.05</td>\n",
       "      <td>4.07</td>\n",
       "      <td>2.31</td>\n",
       "    </tr>\n",
       "    <tr>\n",
       "      <th>3</th>\n",
       "      <td>0.29</td>\n",
       "      <td>Premium</td>\n",
       "      <td>I</td>\n",
       "      <td>VS2</td>\n",
       "      <td>62.4</td>\n",
       "      <td>58.0</td>\n",
       "      <td>334</td>\n",
       "      <td>4.20</td>\n",
       "      <td>4.23</td>\n",
       "      <td>2.63</td>\n",
       "    </tr>\n",
       "    <tr>\n",
       "      <th>4</th>\n",
       "      <td>0.31</td>\n",
       "      <td>Good</td>\n",
       "      <td>J</td>\n",
       "      <td>SI2</td>\n",
       "      <td>63.3</td>\n",
       "      <td>58.0</td>\n",
       "      <td>335</td>\n",
       "      <td>4.34</td>\n",
       "      <td>4.35</td>\n",
       "      <td>2.75</td>\n",
       "    </tr>\n",
       "  </tbody>\n",
       "</table>\n",
       "</div>"
      ],
      "text/plain": [
       "   carat      cut color clarity  depth  table  price     x     y     z\n",
       "0   0.23    Ideal     E     SI2   61.5   55.0    326  3.95  3.98  2.43\n",
       "1   0.21  Premium     E     SI1   59.8   61.0    326  3.89  3.84  2.31\n",
       "2   0.23     Good     E     VS1   56.9   65.0    327  4.05  4.07  2.31\n",
       "3   0.29  Premium     I     VS2   62.4   58.0    334  4.20  4.23  2.63\n",
       "4   0.31     Good     J     SI2   63.3   58.0    335  4.34  4.35  2.75"
      ]
     },
     "execution_count": 4,
     "metadata": {},
     "output_type": "execute_result"
    }
   ],
   "source": [
    "# Looking at the head of the data\n",
    "\n",
    "data.head(5)"
   ]
  },
  {
   "cell_type": "code",
   "execution_count": 5,
   "id": "a24882b0",
   "metadata": {},
   "outputs": [
    {
     "data": {
      "text/html": [
       "<div>\n",
       "<style scoped>\n",
       "    .dataframe tbody tr th:only-of-type {\n",
       "        vertical-align: middle;\n",
       "    }\n",
       "\n",
       "    .dataframe tbody tr th {\n",
       "        vertical-align: top;\n",
       "    }\n",
       "\n",
       "    .dataframe thead th {\n",
       "        text-align: right;\n",
       "    }\n",
       "</style>\n",
       "<table border=\"1\" class=\"dataframe\">\n",
       "  <thead>\n",
       "    <tr style=\"text-align: right;\">\n",
       "      <th></th>\n",
       "      <th>carat</th>\n",
       "      <th>cut</th>\n",
       "      <th>color</th>\n",
       "      <th>clarity</th>\n",
       "      <th>depth</th>\n",
       "      <th>table</th>\n",
       "      <th>price</th>\n",
       "      <th>x</th>\n",
       "      <th>y</th>\n",
       "      <th>z</th>\n",
       "    </tr>\n",
       "  </thead>\n",
       "  <tbody>\n",
       "    <tr>\n",
       "      <th>53935</th>\n",
       "      <td>0.72</td>\n",
       "      <td>Ideal</td>\n",
       "      <td>D</td>\n",
       "      <td>SI1</td>\n",
       "      <td>60.8</td>\n",
       "      <td>57.0</td>\n",
       "      <td>2757</td>\n",
       "      <td>5.75</td>\n",
       "      <td>5.76</td>\n",
       "      <td>3.50</td>\n",
       "    </tr>\n",
       "    <tr>\n",
       "      <th>53936</th>\n",
       "      <td>0.72</td>\n",
       "      <td>Good</td>\n",
       "      <td>D</td>\n",
       "      <td>SI1</td>\n",
       "      <td>63.1</td>\n",
       "      <td>55.0</td>\n",
       "      <td>2757</td>\n",
       "      <td>5.69</td>\n",
       "      <td>5.75</td>\n",
       "      <td>3.61</td>\n",
       "    </tr>\n",
       "    <tr>\n",
       "      <th>53937</th>\n",
       "      <td>0.70</td>\n",
       "      <td>Very Good</td>\n",
       "      <td>D</td>\n",
       "      <td>SI1</td>\n",
       "      <td>62.8</td>\n",
       "      <td>60.0</td>\n",
       "      <td>2757</td>\n",
       "      <td>5.66</td>\n",
       "      <td>5.68</td>\n",
       "      <td>3.56</td>\n",
       "    </tr>\n",
       "    <tr>\n",
       "      <th>53938</th>\n",
       "      <td>0.86</td>\n",
       "      <td>Premium</td>\n",
       "      <td>H</td>\n",
       "      <td>SI2</td>\n",
       "      <td>61.0</td>\n",
       "      <td>58.0</td>\n",
       "      <td>2757</td>\n",
       "      <td>6.15</td>\n",
       "      <td>6.12</td>\n",
       "      <td>3.74</td>\n",
       "    </tr>\n",
       "    <tr>\n",
       "      <th>53939</th>\n",
       "      <td>0.75</td>\n",
       "      <td>Ideal</td>\n",
       "      <td>D</td>\n",
       "      <td>SI2</td>\n",
       "      <td>62.2</td>\n",
       "      <td>55.0</td>\n",
       "      <td>2757</td>\n",
       "      <td>5.83</td>\n",
       "      <td>5.87</td>\n",
       "      <td>3.64</td>\n",
       "    </tr>\n",
       "  </tbody>\n",
       "</table>\n",
       "</div>"
      ],
      "text/plain": [
       "       carat        cut color clarity  depth  table  price     x     y     z\n",
       "53935   0.72      Ideal     D     SI1   60.8   57.0   2757  5.75  5.76  3.50\n",
       "53936   0.72       Good     D     SI1   63.1   55.0   2757  5.69  5.75  3.61\n",
       "53937   0.70  Very Good     D     SI1   62.8   60.0   2757  5.66  5.68  3.56\n",
       "53938   0.86    Premium     H     SI2   61.0   58.0   2757  6.15  6.12  3.74\n",
       "53939   0.75      Ideal     D     SI2   62.2   55.0   2757  5.83  5.87  3.64"
      ]
     },
     "execution_count": 5,
     "metadata": {},
     "output_type": "execute_result"
    }
   ],
   "source": [
    "# Looking at the tail of the data\n",
    "\n",
    "data.tail(5)"
   ]
  },
  {
   "cell_type": "code",
   "execution_count": 6,
   "id": "beb027a3",
   "metadata": {},
   "outputs": [
    {
     "data": {
      "text/html": [
       "<div>\n",
       "<style scoped>\n",
       "    .dataframe tbody tr th:only-of-type {\n",
       "        vertical-align: middle;\n",
       "    }\n",
       "\n",
       "    .dataframe tbody tr th {\n",
       "        vertical-align: top;\n",
       "    }\n",
       "\n",
       "    .dataframe thead th {\n",
       "        text-align: right;\n",
       "    }\n",
       "</style>\n",
       "<table border=\"1\" class=\"dataframe\">\n",
       "  <thead>\n",
       "    <tr style=\"text-align: right;\">\n",
       "      <th></th>\n",
       "      <th>count</th>\n",
       "      <th>unique</th>\n",
       "      <th>top</th>\n",
       "      <th>freq</th>\n",
       "      <th>mean</th>\n",
       "      <th>std</th>\n",
       "      <th>min</th>\n",
       "      <th>25%</th>\n",
       "      <th>50%</th>\n",
       "      <th>75%</th>\n",
       "      <th>max</th>\n",
       "    </tr>\n",
       "  </thead>\n",
       "  <tbody>\n",
       "    <tr>\n",
       "      <th>carat</th>\n",
       "      <td>53940</td>\n",
       "      <td>NaN</td>\n",
       "      <td>NaN</td>\n",
       "      <td>NaN</td>\n",
       "      <td>0.79794</td>\n",
       "      <td>0.474011</td>\n",
       "      <td>0.2</td>\n",
       "      <td>0.4</td>\n",
       "      <td>0.7</td>\n",
       "      <td>1.04</td>\n",
       "      <td>5.01</td>\n",
       "    </tr>\n",
       "    <tr>\n",
       "      <th>cut</th>\n",
       "      <td>53940</td>\n",
       "      <td>5</td>\n",
       "      <td>Ideal</td>\n",
       "      <td>21551</td>\n",
       "      <td>NaN</td>\n",
       "      <td>NaN</td>\n",
       "      <td>NaN</td>\n",
       "      <td>NaN</td>\n",
       "      <td>NaN</td>\n",
       "      <td>NaN</td>\n",
       "      <td>NaN</td>\n",
       "    </tr>\n",
       "    <tr>\n",
       "      <th>color</th>\n",
       "      <td>53940</td>\n",
       "      <td>7</td>\n",
       "      <td>G</td>\n",
       "      <td>11292</td>\n",
       "      <td>NaN</td>\n",
       "      <td>NaN</td>\n",
       "      <td>NaN</td>\n",
       "      <td>NaN</td>\n",
       "      <td>NaN</td>\n",
       "      <td>NaN</td>\n",
       "      <td>NaN</td>\n",
       "    </tr>\n",
       "    <tr>\n",
       "      <th>clarity</th>\n",
       "      <td>53940</td>\n",
       "      <td>8</td>\n",
       "      <td>SI1</td>\n",
       "      <td>13065</td>\n",
       "      <td>NaN</td>\n",
       "      <td>NaN</td>\n",
       "      <td>NaN</td>\n",
       "      <td>NaN</td>\n",
       "      <td>NaN</td>\n",
       "      <td>NaN</td>\n",
       "      <td>NaN</td>\n",
       "    </tr>\n",
       "    <tr>\n",
       "      <th>depth</th>\n",
       "      <td>53940</td>\n",
       "      <td>NaN</td>\n",
       "      <td>NaN</td>\n",
       "      <td>NaN</td>\n",
       "      <td>61.7494</td>\n",
       "      <td>1.43262</td>\n",
       "      <td>43</td>\n",
       "      <td>61</td>\n",
       "      <td>61.8</td>\n",
       "      <td>62.5</td>\n",
       "      <td>79</td>\n",
       "    </tr>\n",
       "    <tr>\n",
       "      <th>table</th>\n",
       "      <td>53940</td>\n",
       "      <td>NaN</td>\n",
       "      <td>NaN</td>\n",
       "      <td>NaN</td>\n",
       "      <td>57.4572</td>\n",
       "      <td>2.23449</td>\n",
       "      <td>43</td>\n",
       "      <td>56</td>\n",
       "      <td>57</td>\n",
       "      <td>59</td>\n",
       "      <td>95</td>\n",
       "    </tr>\n",
       "    <tr>\n",
       "      <th>price</th>\n",
       "      <td>53940</td>\n",
       "      <td>NaN</td>\n",
       "      <td>NaN</td>\n",
       "      <td>NaN</td>\n",
       "      <td>3932.8</td>\n",
       "      <td>3989.44</td>\n",
       "      <td>326</td>\n",
       "      <td>950</td>\n",
       "      <td>2401</td>\n",
       "      <td>5324.25</td>\n",
       "      <td>18823</td>\n",
       "    </tr>\n",
       "    <tr>\n",
       "      <th>x</th>\n",
       "      <td>53940</td>\n",
       "      <td>NaN</td>\n",
       "      <td>NaN</td>\n",
       "      <td>NaN</td>\n",
       "      <td>5.73116</td>\n",
       "      <td>1.12176</td>\n",
       "      <td>0</td>\n",
       "      <td>4.71</td>\n",
       "      <td>5.7</td>\n",
       "      <td>6.54</td>\n",
       "      <td>10.74</td>\n",
       "    </tr>\n",
       "    <tr>\n",
       "      <th>y</th>\n",
       "      <td>53940</td>\n",
       "      <td>NaN</td>\n",
       "      <td>NaN</td>\n",
       "      <td>NaN</td>\n",
       "      <td>5.73453</td>\n",
       "      <td>1.14213</td>\n",
       "      <td>0</td>\n",
       "      <td>4.72</td>\n",
       "      <td>5.71</td>\n",
       "      <td>6.54</td>\n",
       "      <td>58.9</td>\n",
       "    </tr>\n",
       "    <tr>\n",
       "      <th>z</th>\n",
       "      <td>53940</td>\n",
       "      <td>NaN</td>\n",
       "      <td>NaN</td>\n",
       "      <td>NaN</td>\n",
       "      <td>3.53873</td>\n",
       "      <td>0.705699</td>\n",
       "      <td>0</td>\n",
       "      <td>2.91</td>\n",
       "      <td>3.53</td>\n",
       "      <td>4.04</td>\n",
       "      <td>31.8</td>\n",
       "    </tr>\n",
       "  </tbody>\n",
       "</table>\n",
       "</div>"
      ],
      "text/plain": [
       "         count unique    top   freq     mean       std  min   25%   50%  \\\n",
       "carat    53940    NaN    NaN    NaN  0.79794  0.474011  0.2   0.4   0.7   \n",
       "cut      53940      5  Ideal  21551      NaN       NaN  NaN   NaN   NaN   \n",
       "color    53940      7      G  11292      NaN       NaN  NaN   NaN   NaN   \n",
       "clarity  53940      8    SI1  13065      NaN       NaN  NaN   NaN   NaN   \n",
       "depth    53940    NaN    NaN    NaN  61.7494   1.43262   43    61  61.8   \n",
       "table    53940    NaN    NaN    NaN  57.4572   2.23449   43    56    57   \n",
       "price    53940    NaN    NaN    NaN   3932.8   3989.44  326   950  2401   \n",
       "x        53940    NaN    NaN    NaN  5.73116   1.12176    0  4.71   5.7   \n",
       "y        53940    NaN    NaN    NaN  5.73453   1.14213    0  4.72  5.71   \n",
       "z        53940    NaN    NaN    NaN  3.53873  0.705699    0  2.91  3.53   \n",
       "\n",
       "             75%    max  \n",
       "carat       1.04   5.01  \n",
       "cut          NaN    NaN  \n",
       "color        NaN    NaN  \n",
       "clarity      NaN    NaN  \n",
       "depth       62.5     79  \n",
       "table         59     95  \n",
       "price    5324.25  18823  \n",
       "x           6.54  10.74  \n",
       "y           6.54   58.9  \n",
       "z           4.04   31.8  "
      ]
     },
     "execution_count": 6,
     "metadata": {},
     "output_type": "execute_result"
    }
   ],
   "source": [
    "# Descriptive statistics\n",
    "data.describe(include='all').T"
   ]
  },
  {
   "cell_type": "code",
   "execution_count": 7,
   "id": "b393ddaa",
   "metadata": {},
   "outputs": [
    {
     "data": {
      "text/plain": [
       "carat        273\n",
       "cut            5\n",
       "color          7\n",
       "clarity        8\n",
       "depth        184\n",
       "table        127\n",
       "price      11602\n",
       "x            554\n",
       "y            552\n",
       "z            375\n",
       "dtype: int64"
      ]
     },
     "execution_count": 7,
     "metadata": {},
     "output_type": "execute_result"
    }
   ],
   "source": [
    "# Looking at the unique values in the columns\n",
    "\n",
    "data.nunique()\n"
   ]
  },
  {
   "cell_type": "code",
   "execution_count": 8,
   "id": "a84f6ca2",
   "metadata": {},
   "outputs": [
    {
     "data": {
      "text/plain": [
       "carat      0\n",
       "cut        0\n",
       "color      0\n",
       "clarity    0\n",
       "depth      0\n",
       "table      0\n",
       "price      0\n",
       "x          0\n",
       "y          0\n",
       "z          0\n",
       "dtype: int64"
      ]
     },
     "execution_count": 8,
     "metadata": {},
     "output_type": "execute_result"
    }
   ],
   "source": [
    "# Looking at the missing values in the data\n",
    "\n",
    "data.isnull().sum()"
   ]
  },
  {
   "cell_type": "code",
   "execution_count": 9,
   "id": "5319f851",
   "metadata": {},
   "outputs": [],
   "source": [
    "data['depth']=data['depth'].replace(np.nan,0)"
   ]
  },
  {
   "cell_type": "code",
   "execution_count": 10,
   "id": "6ec82b19",
   "metadata": {},
   "outputs": [
    {
     "data": {
      "text/plain": [
       "carat      float64\n",
       "cut         object\n",
       "color       object\n",
       "clarity     object\n",
       "depth      float64\n",
       "table      float64\n",
       "price        int64\n",
       "x          float64\n",
       "y          float64\n",
       "z          float64\n",
       "dtype: object"
      ]
     },
     "execution_count": 10,
     "metadata": {},
     "output_type": "execute_result"
    }
   ],
   "source": [
    "# Looking at the data types\n",
    "\n",
    "data.dtypes"
   ]
  },
  {
   "cell_type": "markdown",
   "id": "3b6f8c7d",
   "metadata": {},
   "source": [
    "# Observations:\n",
    "\n",
    "1.All the IDs present are unique.\n",
    "\n",
    "2.There are no missing values in the dataset.\n",
    "\n",
    "3.We can delete the Depth column as it is a derived column from length, width and height columns.\n",
    "\n",
    "4.The Price column is the dependent column and all others are independent columns."
   ]
  },
  {
   "cell_type": "markdown",
   "id": "90078914",
   "metadata": {},
   "source": [
    "# Data PreProcessing"
   ]
  },
  {
   "cell_type": "code",
   "execution_count": 11,
   "id": "c47794ff",
   "metadata": {},
   "outputs": [
    {
     "data": {
      "text/plain": [
       "Index(['carat', 'cut', 'color', 'clarity', 'depth', 'table', 'price', 'x', 'y',\n",
       "       'z'],\n",
       "      dtype='object')"
      ]
     },
     "execution_count": 11,
     "metadata": {},
     "output_type": "execute_result"
    }
   ],
   "source": [
    "data.columns"
   ]
  },
  {
   "cell_type": "code",
   "execution_count": 12,
   "id": "36e275be",
   "metadata": {},
   "outputs": [],
   "source": [
    "data = data.copy()\n",
    "all_columns_data = data.copy()\n",
    "data = data.drop(columns=['depth'])"
   ]
  },
  {
   "cell_type": "code",
   "execution_count": 13,
   "id": "69649fdf",
   "metadata": {},
   "outputs": [
    {
     "data": {
      "text/html": [
       "<div>\n",
       "<style scoped>\n",
       "    .dataframe tbody tr th:only-of-type {\n",
       "        vertical-align: middle;\n",
       "    }\n",
       "\n",
       "    .dataframe tbody tr th {\n",
       "        vertical-align: top;\n",
       "    }\n",
       "\n",
       "    .dataframe thead th {\n",
       "        text-align: right;\n",
       "    }\n",
       "</style>\n",
       "<table border=\"1\" class=\"dataframe\">\n",
       "  <thead>\n",
       "    <tr style=\"text-align: right;\">\n",
       "      <th></th>\n",
       "      <th>carat</th>\n",
       "      <th>cut</th>\n",
       "      <th>color</th>\n",
       "      <th>clarity</th>\n",
       "      <th>table</th>\n",
       "      <th>price</th>\n",
       "      <th>x</th>\n",
       "      <th>y</th>\n",
       "      <th>z</th>\n",
       "    </tr>\n",
       "  </thead>\n",
       "  <tbody>\n",
       "    <tr>\n",
       "      <th>2207</th>\n",
       "      <td>1.00</td>\n",
       "      <td>Premium</td>\n",
       "      <td>G</td>\n",
       "      <td>SI2</td>\n",
       "      <td>59.0</td>\n",
       "      <td>3142</td>\n",
       "      <td>6.55</td>\n",
       "      <td>6.48</td>\n",
       "      <td>0.0</td>\n",
       "    </tr>\n",
       "    <tr>\n",
       "      <th>2314</th>\n",
       "      <td>1.01</td>\n",
       "      <td>Premium</td>\n",
       "      <td>H</td>\n",
       "      <td>I1</td>\n",
       "      <td>59.0</td>\n",
       "      <td>3167</td>\n",
       "      <td>6.66</td>\n",
       "      <td>6.60</td>\n",
       "      <td>0.0</td>\n",
       "    </tr>\n",
       "    <tr>\n",
       "      <th>4791</th>\n",
       "      <td>1.10</td>\n",
       "      <td>Premium</td>\n",
       "      <td>G</td>\n",
       "      <td>SI2</td>\n",
       "      <td>59.0</td>\n",
       "      <td>3696</td>\n",
       "      <td>6.50</td>\n",
       "      <td>6.47</td>\n",
       "      <td>0.0</td>\n",
       "    </tr>\n",
       "    <tr>\n",
       "      <th>5471</th>\n",
       "      <td>1.01</td>\n",
       "      <td>Premium</td>\n",
       "      <td>F</td>\n",
       "      <td>SI2</td>\n",
       "      <td>58.0</td>\n",
       "      <td>3837</td>\n",
       "      <td>6.50</td>\n",
       "      <td>6.47</td>\n",
       "      <td>0.0</td>\n",
       "    </tr>\n",
       "    <tr>\n",
       "      <th>10167</th>\n",
       "      <td>1.50</td>\n",
       "      <td>Good</td>\n",
       "      <td>G</td>\n",
       "      <td>I1</td>\n",
       "      <td>61.0</td>\n",
       "      <td>4731</td>\n",
       "      <td>7.15</td>\n",
       "      <td>7.04</td>\n",
       "      <td>0.0</td>\n",
       "    </tr>\n",
       "    <tr>\n",
       "      <th>11182</th>\n",
       "      <td>1.07</td>\n",
       "      <td>Ideal</td>\n",
       "      <td>F</td>\n",
       "      <td>SI2</td>\n",
       "      <td>56.0</td>\n",
       "      <td>4954</td>\n",
       "      <td>0.00</td>\n",
       "      <td>6.62</td>\n",
       "      <td>0.0</td>\n",
       "    </tr>\n",
       "    <tr>\n",
       "      <th>11963</th>\n",
       "      <td>1.00</td>\n",
       "      <td>Very Good</td>\n",
       "      <td>H</td>\n",
       "      <td>VS2</td>\n",
       "      <td>53.0</td>\n",
       "      <td>5139</td>\n",
       "      <td>0.00</td>\n",
       "      <td>0.00</td>\n",
       "      <td>0.0</td>\n",
       "    </tr>\n",
       "    <tr>\n",
       "      <th>13601</th>\n",
       "      <td>1.15</td>\n",
       "      <td>Ideal</td>\n",
       "      <td>G</td>\n",
       "      <td>VS2</td>\n",
       "      <td>56.0</td>\n",
       "      <td>5564</td>\n",
       "      <td>6.88</td>\n",
       "      <td>6.83</td>\n",
       "      <td>0.0</td>\n",
       "    </tr>\n",
       "    <tr>\n",
       "      <th>15951</th>\n",
       "      <td>1.14</td>\n",
       "      <td>Fair</td>\n",
       "      <td>G</td>\n",
       "      <td>VS1</td>\n",
       "      <td>67.0</td>\n",
       "      <td>6381</td>\n",
       "      <td>0.00</td>\n",
       "      <td>0.00</td>\n",
       "      <td>0.0</td>\n",
       "    </tr>\n",
       "    <tr>\n",
       "      <th>24394</th>\n",
       "      <td>2.18</td>\n",
       "      <td>Premium</td>\n",
       "      <td>H</td>\n",
       "      <td>SI2</td>\n",
       "      <td>61.0</td>\n",
       "      <td>12631</td>\n",
       "      <td>8.49</td>\n",
       "      <td>8.45</td>\n",
       "      <td>0.0</td>\n",
       "    </tr>\n",
       "    <tr>\n",
       "      <th>24520</th>\n",
       "      <td>1.56</td>\n",
       "      <td>Ideal</td>\n",
       "      <td>G</td>\n",
       "      <td>VS2</td>\n",
       "      <td>54.0</td>\n",
       "      <td>12800</td>\n",
       "      <td>0.00</td>\n",
       "      <td>0.00</td>\n",
       "      <td>0.0</td>\n",
       "    </tr>\n",
       "    <tr>\n",
       "      <th>26123</th>\n",
       "      <td>2.25</td>\n",
       "      <td>Premium</td>\n",
       "      <td>I</td>\n",
       "      <td>SI1</td>\n",
       "      <td>58.0</td>\n",
       "      <td>15397</td>\n",
       "      <td>8.52</td>\n",
       "      <td>8.42</td>\n",
       "      <td>0.0</td>\n",
       "    </tr>\n",
       "    <tr>\n",
       "      <th>26243</th>\n",
       "      <td>1.20</td>\n",
       "      <td>Premium</td>\n",
       "      <td>D</td>\n",
       "      <td>VVS1</td>\n",
       "      <td>59.0</td>\n",
       "      <td>15686</td>\n",
       "      <td>0.00</td>\n",
       "      <td>0.00</td>\n",
       "      <td>0.0</td>\n",
       "    </tr>\n",
       "    <tr>\n",
       "      <th>27112</th>\n",
       "      <td>2.20</td>\n",
       "      <td>Premium</td>\n",
       "      <td>H</td>\n",
       "      <td>SI1</td>\n",
       "      <td>59.0</td>\n",
       "      <td>17265</td>\n",
       "      <td>8.42</td>\n",
       "      <td>8.37</td>\n",
       "      <td>0.0</td>\n",
       "    </tr>\n",
       "    <tr>\n",
       "      <th>27429</th>\n",
       "      <td>2.25</td>\n",
       "      <td>Premium</td>\n",
       "      <td>H</td>\n",
       "      <td>SI2</td>\n",
       "      <td>59.0</td>\n",
       "      <td>18034</td>\n",
       "      <td>0.00</td>\n",
       "      <td>0.00</td>\n",
       "      <td>0.0</td>\n",
       "    </tr>\n",
       "    <tr>\n",
       "      <th>27503</th>\n",
       "      <td>2.02</td>\n",
       "      <td>Premium</td>\n",
       "      <td>H</td>\n",
       "      <td>VS2</td>\n",
       "      <td>53.0</td>\n",
       "      <td>18207</td>\n",
       "      <td>8.02</td>\n",
       "      <td>7.95</td>\n",
       "      <td>0.0</td>\n",
       "    </tr>\n",
       "    <tr>\n",
       "      <th>27739</th>\n",
       "      <td>2.80</td>\n",
       "      <td>Good</td>\n",
       "      <td>G</td>\n",
       "      <td>SI2</td>\n",
       "      <td>58.0</td>\n",
       "      <td>18788</td>\n",
       "      <td>8.90</td>\n",
       "      <td>8.85</td>\n",
       "      <td>0.0</td>\n",
       "    </tr>\n",
       "    <tr>\n",
       "      <th>49556</th>\n",
       "      <td>0.71</td>\n",
       "      <td>Good</td>\n",
       "      <td>F</td>\n",
       "      <td>SI2</td>\n",
       "      <td>60.0</td>\n",
       "      <td>2130</td>\n",
       "      <td>0.00</td>\n",
       "      <td>0.00</td>\n",
       "      <td>0.0</td>\n",
       "    </tr>\n",
       "    <tr>\n",
       "      <th>49557</th>\n",
       "      <td>0.71</td>\n",
       "      <td>Good</td>\n",
       "      <td>F</td>\n",
       "      <td>SI2</td>\n",
       "      <td>60.0</td>\n",
       "      <td>2130</td>\n",
       "      <td>0.00</td>\n",
       "      <td>0.00</td>\n",
       "      <td>0.0</td>\n",
       "    </tr>\n",
       "    <tr>\n",
       "      <th>51506</th>\n",
       "      <td>1.12</td>\n",
       "      <td>Premium</td>\n",
       "      <td>G</td>\n",
       "      <td>I1</td>\n",
       "      <td>59.0</td>\n",
       "      <td>2383</td>\n",
       "      <td>6.71</td>\n",
       "      <td>6.67</td>\n",
       "      <td>0.0</td>\n",
       "    </tr>\n",
       "  </tbody>\n",
       "</table>\n",
       "</div>"
      ],
      "text/plain": [
       "       carat        cut color clarity  table  price     x     y    z\n",
       "2207    1.00    Premium     G     SI2   59.0   3142  6.55  6.48  0.0\n",
       "2314    1.01    Premium     H      I1   59.0   3167  6.66  6.60  0.0\n",
       "4791    1.10    Premium     G     SI2   59.0   3696  6.50  6.47  0.0\n",
       "5471    1.01    Premium     F     SI2   58.0   3837  6.50  6.47  0.0\n",
       "10167   1.50       Good     G      I1   61.0   4731  7.15  7.04  0.0\n",
       "11182   1.07      Ideal     F     SI2   56.0   4954  0.00  6.62  0.0\n",
       "11963   1.00  Very Good     H     VS2   53.0   5139  0.00  0.00  0.0\n",
       "13601   1.15      Ideal     G     VS2   56.0   5564  6.88  6.83  0.0\n",
       "15951   1.14       Fair     G     VS1   67.0   6381  0.00  0.00  0.0\n",
       "24394   2.18    Premium     H     SI2   61.0  12631  8.49  8.45  0.0\n",
       "24520   1.56      Ideal     G     VS2   54.0  12800  0.00  0.00  0.0\n",
       "26123   2.25    Premium     I     SI1   58.0  15397  8.52  8.42  0.0\n",
       "26243   1.20    Premium     D    VVS1   59.0  15686  0.00  0.00  0.0\n",
       "27112   2.20    Premium     H     SI1   59.0  17265  8.42  8.37  0.0\n",
       "27429   2.25    Premium     H     SI2   59.0  18034  0.00  0.00  0.0\n",
       "27503   2.02    Premium     H     VS2   53.0  18207  8.02  7.95  0.0\n",
       "27739   2.80       Good     G     SI2   58.0  18788  8.90  8.85  0.0\n",
       "49556   0.71       Good     F     SI2   60.0   2130  0.00  0.00  0.0\n",
       "49557   0.71       Good     F     SI2   60.0   2130  0.00  0.00  0.0\n",
       "51506   1.12    Premium     G      I1   59.0   2383  6.71  6.67  0.0"
      ]
     },
     "execution_count": 13,
     "metadata": {},
     "output_type": "execute_result"
    }
   ],
   "source": [
    "data_invalid_rows = data[(data['carat']==0) | (data['table']==0) | (data['price']==0) |\n",
    "                          (data['x']==0) | (data['y']==0) | (data['z']==0)]\n",
    "data_invalid_rows"
   ]
  },
  {
   "cell_type": "code",
   "execution_count": 14,
   "id": "b4d80a86",
   "metadata": {},
   "outputs": [
    {
     "data": {
      "text/plain": [
       "(20, 9)"
      ]
     },
     "execution_count": 14,
     "metadata": {},
     "output_type": "execute_result"
    }
   ],
   "source": [
    "data_invalid_rows.shape"
   ]
  },
  {
   "cell_type": "code",
   "execution_count": 15,
   "id": "57a70bf3",
   "metadata": {},
   "outputs": [],
   "source": [
    "data = data.drop(index=data_invalid_rows.index)\n",
    "all_columns_data = all_columns_data.drop(index=data_invalid_rows.index)"
   ]
  },
  {
   "cell_type": "code",
   "execution_count": 16,
   "id": "eaea0918",
   "metadata": {},
   "outputs": [],
   "source": [
    "# Resetting Index\n",
    "data = data.reset_index(drop=True)\n",
    "all_columns_dataset = data.reset_index(drop=True)"
   ]
  },
  {
   "cell_type": "code",
   "execution_count": 17,
   "id": "b86d6a5b",
   "metadata": {},
   "outputs": [],
   "source": [
    "# calculating volume of 'x','y' and 'z' as those are length,width and depth\n",
    "\n",
    "volume = data['x'] * data['y'] * data['z']"
   ]
  },
  {
   "cell_type": "code",
   "execution_count": 18,
   "id": "11c4c511",
   "metadata": {},
   "outputs": [
    {
     "data": {
      "text/plain": [
       "0         38.202030\n",
       "1         34.505856\n",
       "2         38.076885\n",
       "3         46.724580\n",
       "4         51.917250\n",
       "            ...    \n",
       "53915    115.920000\n",
       "53916    118.110175\n",
       "53917    114.449728\n",
       "53918    140.766120\n",
       "53919    124.568444\n",
       "Length: 53920, dtype: float64"
      ]
     },
     "execution_count": 18,
     "metadata": {},
     "output_type": "execute_result"
    }
   ],
   "source": [
    "volume"
   ]
  },
  {
   "cell_type": "code",
   "execution_count": 19,
   "id": "dd3197ff",
   "metadata": {},
   "outputs": [],
   "source": [
    "# Now we can drop 'x','y' and 'z' columns\n",
    "\n",
    "data = data.drop(columns=['x','y','z'])"
   ]
  },
  {
   "cell_type": "code",
   "execution_count": 20,
   "id": "923a5598",
   "metadata": {},
   "outputs": [
    {
     "data": {
      "text/html": [
       "<div>\n",
       "<style scoped>\n",
       "    .dataframe tbody tr th:only-of-type {\n",
       "        vertical-align: middle;\n",
       "    }\n",
       "\n",
       "    .dataframe tbody tr th {\n",
       "        vertical-align: top;\n",
       "    }\n",
       "\n",
       "    .dataframe thead th {\n",
       "        text-align: right;\n",
       "    }\n",
       "</style>\n",
       "<table border=\"1\" class=\"dataframe\">\n",
       "  <thead>\n",
       "    <tr style=\"text-align: right;\">\n",
       "      <th></th>\n",
       "      <th>carat</th>\n",
       "      <th>cut</th>\n",
       "      <th>color</th>\n",
       "      <th>clarity</th>\n",
       "      <th>table</th>\n",
       "      <th>price</th>\n",
       "      <th>volume</th>\n",
       "    </tr>\n",
       "  </thead>\n",
       "  <tbody>\n",
       "    <tr>\n",
       "      <th>0</th>\n",
       "      <td>0.23</td>\n",
       "      <td>Ideal</td>\n",
       "      <td>E</td>\n",
       "      <td>SI2</td>\n",
       "      <td>55.0</td>\n",
       "      <td>326</td>\n",
       "      <td>38.202030</td>\n",
       "    </tr>\n",
       "    <tr>\n",
       "      <th>1</th>\n",
       "      <td>0.21</td>\n",
       "      <td>Premium</td>\n",
       "      <td>E</td>\n",
       "      <td>SI1</td>\n",
       "      <td>61.0</td>\n",
       "      <td>326</td>\n",
       "      <td>34.505856</td>\n",
       "    </tr>\n",
       "    <tr>\n",
       "      <th>2</th>\n",
       "      <td>0.23</td>\n",
       "      <td>Good</td>\n",
       "      <td>E</td>\n",
       "      <td>VS1</td>\n",
       "      <td>65.0</td>\n",
       "      <td>327</td>\n",
       "      <td>38.076885</td>\n",
       "    </tr>\n",
       "    <tr>\n",
       "      <th>3</th>\n",
       "      <td>0.29</td>\n",
       "      <td>Premium</td>\n",
       "      <td>I</td>\n",
       "      <td>VS2</td>\n",
       "      <td>58.0</td>\n",
       "      <td>334</td>\n",
       "      <td>46.724580</td>\n",
       "    </tr>\n",
       "    <tr>\n",
       "      <th>4</th>\n",
       "      <td>0.31</td>\n",
       "      <td>Good</td>\n",
       "      <td>J</td>\n",
       "      <td>SI2</td>\n",
       "      <td>58.0</td>\n",
       "      <td>335</td>\n",
       "      <td>51.917250</td>\n",
       "    </tr>\n",
       "    <tr>\n",
       "      <th>...</th>\n",
       "      <td>...</td>\n",
       "      <td>...</td>\n",
       "      <td>...</td>\n",
       "      <td>...</td>\n",
       "      <td>...</td>\n",
       "      <td>...</td>\n",
       "      <td>...</td>\n",
       "    </tr>\n",
       "    <tr>\n",
       "      <th>53915</th>\n",
       "      <td>0.72</td>\n",
       "      <td>Ideal</td>\n",
       "      <td>D</td>\n",
       "      <td>SI1</td>\n",
       "      <td>57.0</td>\n",
       "      <td>2757</td>\n",
       "      <td>115.920000</td>\n",
       "    </tr>\n",
       "    <tr>\n",
       "      <th>53916</th>\n",
       "      <td>0.72</td>\n",
       "      <td>Good</td>\n",
       "      <td>D</td>\n",
       "      <td>SI1</td>\n",
       "      <td>55.0</td>\n",
       "      <td>2757</td>\n",
       "      <td>118.110175</td>\n",
       "    </tr>\n",
       "    <tr>\n",
       "      <th>53917</th>\n",
       "      <td>0.70</td>\n",
       "      <td>Very Good</td>\n",
       "      <td>D</td>\n",
       "      <td>SI1</td>\n",
       "      <td>60.0</td>\n",
       "      <td>2757</td>\n",
       "      <td>114.449728</td>\n",
       "    </tr>\n",
       "    <tr>\n",
       "      <th>53918</th>\n",
       "      <td>0.86</td>\n",
       "      <td>Premium</td>\n",
       "      <td>H</td>\n",
       "      <td>SI2</td>\n",
       "      <td>58.0</td>\n",
       "      <td>2757</td>\n",
       "      <td>140.766120</td>\n",
       "    </tr>\n",
       "    <tr>\n",
       "      <th>53919</th>\n",
       "      <td>0.75</td>\n",
       "      <td>Ideal</td>\n",
       "      <td>D</td>\n",
       "      <td>SI2</td>\n",
       "      <td>55.0</td>\n",
       "      <td>2757</td>\n",
       "      <td>124.568444</td>\n",
       "    </tr>\n",
       "  </tbody>\n",
       "</table>\n",
       "<p>53920 rows × 7 columns</p>\n",
       "</div>"
      ],
      "text/plain": [
       "       carat        cut color clarity  table  price      volume\n",
       "0       0.23      Ideal     E     SI2   55.0    326   38.202030\n",
       "1       0.21    Premium     E     SI1   61.0    326   34.505856\n",
       "2       0.23       Good     E     VS1   65.0    327   38.076885\n",
       "3       0.29    Premium     I     VS2   58.0    334   46.724580\n",
       "4       0.31       Good     J     SI2   58.0    335   51.917250\n",
       "...      ...        ...   ...     ...    ...    ...         ...\n",
       "53915   0.72      Ideal     D     SI1   57.0   2757  115.920000\n",
       "53916   0.72       Good     D     SI1   55.0   2757  118.110175\n",
       "53917   0.70  Very Good     D     SI1   60.0   2757  114.449728\n",
       "53918   0.86    Premium     H     SI2   58.0   2757  140.766120\n",
       "53919   0.75      Ideal     D     SI2   55.0   2757  124.568444\n",
       "\n",
       "[53920 rows x 7 columns]"
      ]
     },
     "execution_count": 20,
     "metadata": {},
     "output_type": "execute_result"
    }
   ],
   "source": [
    "# adding volume column\n",
    "\n",
    "data = pd.concat([data, volume.rename(\"volume\")], axis=1)\n",
    "data"
   ]
  },
  {
   "cell_type": "code",
   "execution_count": 21,
   "id": "e3767d18",
   "metadata": {},
   "outputs": [
    {
     "data": {
      "text/plain": [
       "Index(['carat', 'cut', 'color', 'clarity', 'table', 'price', 'volume'], dtype='object')"
      ]
     },
     "execution_count": 21,
     "metadata": {},
     "output_type": "execute_result"
    }
   ],
   "source": [
    "data.columns"
   ]
  },
  {
   "cell_type": "markdown",
   "id": "dd1a9c41",
   "metadata": {},
   "source": [
    "# Step - 2: \n",
    "Perform the EDA on the given dataset"
   ]
  },
  {
   "cell_type": "markdown",
   "id": "eab158c6",
   "metadata": {},
   "source": [
    "Descriptive statistics"
   ]
  },
  {
   "cell_type": "code",
   "execution_count": 22,
   "id": "1cc8fc51",
   "metadata": {},
   "outputs": [
    {
     "data": {
      "text/html": [
       "<div>\n",
       "<style scoped>\n",
       "    .dataframe tbody tr th:only-of-type {\n",
       "        vertical-align: middle;\n",
       "    }\n",
       "\n",
       "    .dataframe tbody tr th {\n",
       "        vertical-align: top;\n",
       "    }\n",
       "\n",
       "    .dataframe thead th {\n",
       "        text-align: right;\n",
       "    }\n",
       "</style>\n",
       "<table border=\"1\" class=\"dataframe\">\n",
       "  <thead>\n",
       "    <tr style=\"text-align: right;\">\n",
       "      <th></th>\n",
       "      <th>count</th>\n",
       "      <th>unique</th>\n",
       "      <th>top</th>\n",
       "      <th>freq</th>\n",
       "      <th>mean</th>\n",
       "      <th>std</th>\n",
       "      <th>min</th>\n",
       "      <th>25%</th>\n",
       "      <th>50%</th>\n",
       "      <th>75%</th>\n",
       "      <th>max</th>\n",
       "    </tr>\n",
       "  </thead>\n",
       "  <tbody>\n",
       "    <tr>\n",
       "      <th>carat</th>\n",
       "      <td>53920</td>\n",
       "      <td>NaN</td>\n",
       "      <td>NaN</td>\n",
       "      <td>NaN</td>\n",
       "      <td>0.797698</td>\n",
       "      <td>0.473795</td>\n",
       "      <td>0.2</td>\n",
       "      <td>0.4</td>\n",
       "      <td>0.7</td>\n",
       "      <td>1.04</td>\n",
       "      <td>5.01</td>\n",
       "    </tr>\n",
       "    <tr>\n",
       "      <th>cut</th>\n",
       "      <td>53920</td>\n",
       "      <td>5</td>\n",
       "      <td>Ideal</td>\n",
       "      <td>21548</td>\n",
       "      <td>NaN</td>\n",
       "      <td>NaN</td>\n",
       "      <td>NaN</td>\n",
       "      <td>NaN</td>\n",
       "      <td>NaN</td>\n",
       "      <td>NaN</td>\n",
       "      <td>NaN</td>\n",
       "    </tr>\n",
       "    <tr>\n",
       "      <th>color</th>\n",
       "      <td>53920</td>\n",
       "      <td>7</td>\n",
       "      <td>G</td>\n",
       "      <td>11284</td>\n",
       "      <td>NaN</td>\n",
       "      <td>NaN</td>\n",
       "      <td>NaN</td>\n",
       "      <td>NaN</td>\n",
       "      <td>NaN</td>\n",
       "      <td>NaN</td>\n",
       "      <td>NaN</td>\n",
       "    </tr>\n",
       "    <tr>\n",
       "      <th>clarity</th>\n",
       "      <td>53920</td>\n",
       "      <td>8</td>\n",
       "      <td>SI1</td>\n",
       "      <td>13063</td>\n",
       "      <td>NaN</td>\n",
       "      <td>NaN</td>\n",
       "      <td>NaN</td>\n",
       "      <td>NaN</td>\n",
       "      <td>NaN</td>\n",
       "      <td>NaN</td>\n",
       "      <td>NaN</td>\n",
       "    </tr>\n",
       "    <tr>\n",
       "      <th>table</th>\n",
       "      <td>53920</td>\n",
       "      <td>NaN</td>\n",
       "      <td>NaN</td>\n",
       "      <td>NaN</td>\n",
       "      <td>57.4568</td>\n",
       "      <td>2.23406</td>\n",
       "      <td>43</td>\n",
       "      <td>56</td>\n",
       "      <td>57</td>\n",
       "      <td>59</td>\n",
       "      <td>95</td>\n",
       "    </tr>\n",
       "    <tr>\n",
       "      <th>price</th>\n",
       "      <td>53920</td>\n",
       "      <td>NaN</td>\n",
       "      <td>NaN</td>\n",
       "      <td>NaN</td>\n",
       "      <td>3930.99</td>\n",
       "      <td>3987.28</td>\n",
       "      <td>326</td>\n",
       "      <td>949</td>\n",
       "      <td>2401</td>\n",
       "      <td>5323.25</td>\n",
       "      <td>18823</td>\n",
       "    </tr>\n",
       "    <tr>\n",
       "      <th>volume</th>\n",
       "      <td>53920</td>\n",
       "      <td>NaN</td>\n",
       "      <td>NaN</td>\n",
       "      <td>NaN</td>\n",
       "      <td>129.898</td>\n",
       "      <td>78.2198</td>\n",
       "      <td>31.708</td>\n",
       "      <td>65.1898</td>\n",
       "      <td>114.84</td>\n",
       "      <td>170.846</td>\n",
       "      <td>3840.6</td>\n",
       "    </tr>\n",
       "  </tbody>\n",
       "</table>\n",
       "</div>"
      ],
      "text/plain": [
       "         count unique    top   freq      mean       std     min      25%  \\\n",
       "carat    53920    NaN    NaN    NaN  0.797698  0.473795     0.2      0.4   \n",
       "cut      53920      5  Ideal  21548       NaN       NaN     NaN      NaN   \n",
       "color    53920      7      G  11284       NaN       NaN     NaN      NaN   \n",
       "clarity  53920      8    SI1  13063       NaN       NaN     NaN      NaN   \n",
       "table    53920    NaN    NaN    NaN   57.4568   2.23406      43       56   \n",
       "price    53920    NaN    NaN    NaN   3930.99   3987.28     326      949   \n",
       "volume   53920    NaN    NaN    NaN   129.898   78.2198  31.708  65.1898   \n",
       "\n",
       "            50%      75%     max  \n",
       "carat       0.7     1.04    5.01  \n",
       "cut         NaN      NaN     NaN  \n",
       "color       NaN      NaN     NaN  \n",
       "clarity     NaN      NaN     NaN  \n",
       "table        57       59      95  \n",
       "price      2401  5323.25   18823  \n",
       "volume   114.84  170.846  3840.6  "
      ]
     },
     "execution_count": 22,
     "metadata": {},
     "output_type": "execute_result"
    }
   ],
   "source": [
    "data.describe(include='all').T"
   ]
  },
  {
   "cell_type": "code",
   "execution_count": 23,
   "id": "eef1b871",
   "metadata": {},
   "outputs": [
    {
     "data": {
      "text/plain": [
       "(53920, 7)"
      ]
     },
     "execution_count": 23,
     "metadata": {},
     "output_type": "execute_result"
    }
   ],
   "source": [
    "# looking at the shape after eliminating some rows and adding a new column by eliminating three columns\n",
    "data.shape"
   ]
  },
  {
   "cell_type": "markdown",
   "id": "99b61ddc",
   "metadata": {},
   "source": [
    "Univariate Analysis\n",
    "\n",
    "Categorical Variables"
   ]
  },
  {
   "cell_type": "code",
   "execution_count": 24,
   "id": "5a51bfc4",
   "metadata": {},
   "outputs": [
    {
     "data": {
      "text/plain": [
       "Ideal        21548\n",
       "Premium      13780\n",
       "Very Good    12081\n",
       "Good          4902\n",
       "Fair          1609\n",
       "Name: cut, dtype: int64"
      ]
     },
     "execution_count": 24,
     "metadata": {},
     "output_type": "execute_result"
    }
   ],
   "source": [
    "data['cut'].value_counts()"
   ]
  },
  {
   "cell_type": "code",
   "execution_count": 25,
   "id": "3ee96096",
   "metadata": {},
   "outputs": [
    {
     "data": {
      "text/plain": [
       "SI1     13063\n",
       "VS2     12254\n",
       "SI2      9185\n",
       "VS1      8170\n",
       "VVS2     5066\n",
       "VVS1     3654\n",
       "IF       1790\n",
       "I1        738\n",
       "Name: clarity, dtype: int64"
      ]
     },
     "execution_count": 25,
     "metadata": {},
     "output_type": "execute_result"
    }
   ],
   "source": [
    "data['clarity'].value_counts()"
   ]
  },
  {
   "cell_type": "code",
   "execution_count": 26,
   "id": "33212e34",
   "metadata": {},
   "outputs": [
    {
     "data": {
      "text/plain": [
       "G    11284\n",
       "E     9797\n",
       "F     9538\n",
       "H     8298\n",
       "D     6774\n",
       "I     5421\n",
       "J     2808\n",
       "Name: color, dtype: int64"
      ]
     },
     "execution_count": 26,
     "metadata": {},
     "output_type": "execute_result"
    }
   ],
   "source": [
    "data['color'].value_counts()"
   ]
  },
  {
   "cell_type": "markdown",
   "id": "4262f075",
   "metadata": {},
   "source": [
    "Grade 'G' is most frequently occuring diamond color\n",
    "\n",
    "'SI1' clarity is most frequently occuring clarity\n",
    "\n",
    "'Ideal' cut is the most frequent cut from the given data"
   ]
  },
  {
   "cell_type": "markdown",
   "id": "392a9324",
   "metadata": {},
   "source": [
    "Univariate analysis for numerical variables"
   ]
  },
  {
   "cell_type": "code",
   "execution_count": 27,
   "id": "1bfafc8a",
   "metadata": {},
   "outputs": [
    {
     "data": {
      "text/plain": [
       "carat     1.116207\n",
       "table     0.796799\n",
       "price     1.618349\n",
       "volume    3.042694\n",
       "dtype: float64"
      ]
     },
     "execution_count": 27,
     "metadata": {},
     "output_type": "execute_result"
    }
   ],
   "source": [
    "data.skew()"
   ]
  },
  {
   "cell_type": "markdown",
   "id": "8732aee0",
   "metadata": {},
   "source": [
    "Analysis \n",
    "    \n",
    "All variables are right skewed.\n",
    "\n",
    "table variable is moderately skewed.\n",
    "\n",
    "Price,Carat are highly skewed.\n"
   ]
  },
  {
   "cell_type": "code",
   "execution_count": 28,
   "id": "cb7a056c",
   "metadata": {},
   "outputs": [],
   "source": [
    "def min_max_skew(series):\n",
    "    cmin = np.around(np.min(series), 2)\n",
    "    cmax = np.around(np.max(series), 2)\n",
    "    skew = np.around(stats.skew(series), 2)\n",
    "    \n",
    "    return cmin, cmax, skew"
   ]
  },
  {
   "cell_type": "code",
   "execution_count": 29,
   "id": "f3f70175",
   "metadata": {},
   "outputs": [],
   "source": [
    "def transform_skew(series):\n",
    "    series_min, series_max, series_skew = min_max_skew(series)\n",
    "    \n",
    "    # Log transformation\n",
    "    log_series = np.log(series)\n",
    "    log_min, log_max, log_skew = min_max_skew(log_series)\n",
    "    \n",
    "    # Square root transformation\n",
    "    root_series = np.sqrt(series)\n",
    "    root_min, root_max, root_skew = min_max_skew(root_series)\n",
    "    \n",
    "    # Reciprocal transformation\n",
    "    reciprocal_series = 1 / series\n",
    "    reciprocal_min, reciprocal_max, reciprocal_skew = min_max_skew(reciprocal_series)\n",
    "    \n",
    "    # Box-Cox transformation\n",
    "    boxcox_series = stats.boxcox(series)[0]\n",
    "    boxcox_min, boxcox_max, boxcox_skew = min_max_skew(boxcox_series)\n",
    "    \n",
    "    # Building Min, Max and Transformed values DataFrame\n",
    "    data_min_max_skew = pd.DataFrame({\n",
    "        'Tranformation': ['Given Series', 'Log', 'Square root', 'Reciprocal', 'Box-Cox'],\n",
    "        'Min': [series_min, log_min, root_min, reciprocal_min, boxcox_min],\n",
    "        'Max': [series_max, log_max, root_max, reciprocal_max, boxcox_max],\n",
    "        'Skew': [series_skew, log_skew, root_skew, reciprocal_skew, boxcox_skew]\n",
    "    })\n",
    "    \n",
    "    return data_min_max_skew\n",
    "    "
   ]
  },
  {
   "cell_type": "code",
   "execution_count": 30,
   "id": "ee4828af",
   "metadata": {},
   "outputs": [
    {
     "data": {
      "image/png": "[encoded data removed]",
      "text/plain": [
       "<Figure size 360x360 with 1 Axes>"
      ]
     },
     "metadata": {
      "needs_background": "light"
     },
     "output_type": "display_data"
    }
   ],
   "source": [
    "# Histogram of the data\n",
    "\n",
    "sns.displot(data['price'], kde=True)\n",
    "plt.show()"
   ]
  },
  {
   "cell_type": "code",
   "execution_count": 31,
   "id": "c703080c",
   "metadata": {},
   "outputs": [
    {
     "data": {
      "text/html": [
       "<div>\n",
       "<style scoped>\n",
       "    .dataframe tbody tr th:only-of-type {\n",
       "        vertical-align: middle;\n",
       "    }\n",
       "\n",
       "    .dataframe tbody tr th {\n",
       "        vertical-align: top;\n",
       "    }\n",
       "\n",
       "    .dataframe thead th {\n",
       "        text-align: right;\n",
       "    }\n",
       "</style>\n",
       "<table border=\"1\" class=\"dataframe\">\n",
       "  <thead>\n",
       "    <tr style=\"text-align: right;\">\n",
       "      <th></th>\n",
       "      <th>Tranformation</th>\n",
       "      <th>Min</th>\n",
       "      <th>Max</th>\n",
       "      <th>Skew</th>\n",
       "    </tr>\n",
       "  </thead>\n",
       "  <tbody>\n",
       "    <tr>\n",
       "      <th>0</th>\n",
       "      <td>Given Series</td>\n",
       "      <td>326.00</td>\n",
       "      <td>18823.00</td>\n",
       "      <td>1.62</td>\n",
       "    </tr>\n",
       "    <tr>\n",
       "      <th>1</th>\n",
       "      <td>Log</td>\n",
       "      <td>5.79</td>\n",
       "      <td>9.84</td>\n",
       "      <td>0.12</td>\n",
       "    </tr>\n",
       "    <tr>\n",
       "      <th>2</th>\n",
       "      <td>Square root</td>\n",
       "      <td>18.06</td>\n",
       "      <td>137.20</td>\n",
       "      <td>0.84</td>\n",
       "    </tr>\n",
       "    <tr>\n",
       "      <th>3</th>\n",
       "      <td>Reciprocal</td>\n",
       "      <td>0.00</td>\n",
       "      <td>0.00</td>\n",
       "      <td>1.08</td>\n",
       "    </tr>\n",
       "    <tr>\n",
       "      <th>4</th>\n",
       "      <td>Box-Cox</td>\n",
       "      <td>4.80</td>\n",
       "      <td>7.20</td>\n",
       "      <td>0.03</td>\n",
       "    </tr>\n",
       "  </tbody>\n",
       "</table>\n",
       "</div>"
      ],
      "text/plain": [
       "  Tranformation     Min       Max  Skew\n",
       "0  Given Series  326.00  18823.00  1.62\n",
       "1           Log    5.79      9.84  0.12\n",
       "2   Square root   18.06    137.20  0.84\n",
       "3    Reciprocal    0.00      0.00  1.08\n",
       "4       Box-Cox    4.80      7.20  0.03"
      ]
     },
     "execution_count": 31,
     "metadata": {},
     "output_type": "execute_result"
    }
   ],
   "source": [
    "#Performing different transformations\n",
    "transform_skew(data['price'])"
   ]
  },
  {
   "cell_type": "markdown",
   "id": "f6b22fec",
   "metadata": {},
   "source": [
    "After Observing min, max and skew values, the Box-Cox transformation seems to be the best fit."
   ]
  },
  {
   "cell_type": "code",
   "execution_count": 32,
   "id": "719aa32d",
   "metadata": {},
   "outputs": [
    {
     "data": {
      "image/png": "[encoded data removed]",
      "text/plain": [
       "<Figure size 360x360 with 1 Axes>"
      ]
     },
     "metadata": {
      "needs_background": "light"
     },
     "output_type": "display_data"
    }
   ],
   "source": [
    "sns.displot(stats.boxcox(data['price'])[0], kde=True)\n",
    "plt.show()"
   ]
  },
  {
   "cell_type": "code",
   "execution_count": 33,
   "id": "bfd37a1c",
   "metadata": {},
   "outputs": [],
   "source": [
    "data['price_transformed'] = stats.boxcox(data['price'])[0]"
   ]
  },
  {
   "cell_type": "code",
   "execution_count": 34,
   "id": "941a3286",
   "metadata": {},
   "outputs": [],
   "source": [
    "# Deleting Price column\n",
    "data = data.drop(columns=['price'])"
   ]
  },
  {
   "cell_type": "markdown",
   "id": "5c900902",
   "metadata": {},
   "source": [
    "table variable"
   ]
  },
  {
   "cell_type": "code",
   "execution_count": 35,
   "id": "b9804e3c",
   "metadata": {},
   "outputs": [
    {
     "data": {
      "image/png": "[encoded data removed]",
      "text/plain": [
       "<Figure size 360x360 with 1 Axes>"
      ]
     },
     "metadata": {
      "needs_background": "light"
     },
     "output_type": "display_data"
    }
   ],
   "source": [
    "sns.displot(data['table'], kde=True)\n",
    "plt.show()"
   ]
  },
  {
   "cell_type": "code",
   "execution_count": 36,
   "id": "b35be695",
   "metadata": {},
   "outputs": [
    {
     "data": {
      "text/html": [
       "<div>\n",
       "<style scoped>\n",
       "    .dataframe tbody tr th:only-of-type {\n",
       "        vertical-align: middle;\n",
       "    }\n",
       "\n",
       "    .dataframe tbody tr th {\n",
       "        vertical-align: top;\n",
       "    }\n",
       "\n",
       "    .dataframe thead th {\n",
       "        text-align: right;\n",
       "    }\n",
       "</style>\n",
       "<table border=\"1\" class=\"dataframe\">\n",
       "  <thead>\n",
       "    <tr style=\"text-align: right;\">\n",
       "      <th></th>\n",
       "      <th>Tranformation</th>\n",
       "      <th>Min</th>\n",
       "      <th>Max</th>\n",
       "      <th>Skew</th>\n",
       "    </tr>\n",
       "  </thead>\n",
       "  <tbody>\n",
       "    <tr>\n",
       "      <th>0</th>\n",
       "      <td>Given Series</td>\n",
       "      <td>43.00</td>\n",
       "      <td>95.00</td>\n",
       "      <td>0.80</td>\n",
       "    </tr>\n",
       "    <tr>\n",
       "      <th>1</th>\n",
       "      <td>Log</td>\n",
       "      <td>3.76</td>\n",
       "      <td>4.55</td>\n",
       "      <td>0.60</td>\n",
       "    </tr>\n",
       "    <tr>\n",
       "      <th>2</th>\n",
       "      <td>Square root</td>\n",
       "      <td>6.56</td>\n",
       "      <td>9.75</td>\n",
       "      <td>0.69</td>\n",
       "    </tr>\n",
       "    <tr>\n",
       "      <th>3</th>\n",
       "      <td>Reciprocal</td>\n",
       "      <td>0.01</td>\n",
       "      <td>0.02</td>\n",
       "      <td>-0.43</td>\n",
       "    </tr>\n",
       "    <tr>\n",
       "      <th>4</th>\n",
       "      <td>Box-Cox</td>\n",
       "      <td>0.24</td>\n",
       "      <td>0.24</td>\n",
       "      <td>-0.04</td>\n",
       "    </tr>\n",
       "  </tbody>\n",
       "</table>\n",
       "</div>"
      ],
      "text/plain": [
       "  Tranformation    Min    Max  Skew\n",
       "0  Given Series  43.00  95.00  0.80\n",
       "1           Log   3.76   4.55  0.60\n",
       "2   Square root   6.56   9.75  0.69\n",
       "3    Reciprocal   0.01   0.02 -0.43\n",
       "4       Box-Cox   0.24   0.24 -0.04"
      ]
     },
     "execution_count": 36,
     "metadata": {},
     "output_type": "execute_result"
    }
   ],
   "source": [
    "transform_skew(data['table'])"
   ]
  },
  {
   "cell_type": "markdown",
   "id": "eeb4048a",
   "metadata": {},
   "source": [
    "After Observing min, max and skew values, the Log transformation seems to be the best fit."
   ]
  },
  {
   "cell_type": "code",
   "execution_count": 37,
   "id": "4c277d93",
   "metadata": {},
   "outputs": [
    {
     "data": {
      "image/png": "[encoded data removed]",
      "text/plain": [
       "<Figure size 360x360 with 1 Axes>"
      ]
     },
     "metadata": {
      "needs_background": "light"
     },
     "output_type": "display_data"
    }
   ],
   "source": [
    "sns.displot(np.log(data['table']), kde=True)\n",
    "plt.show()"
   ]
  },
  {
   "cell_type": "code",
   "execution_count": 38,
   "id": "dabe1c16",
   "metadata": {},
   "outputs": [],
   "source": [
    "data['table_transformed'] = np.log(data['table'])"
   ]
  },
  {
   "cell_type": "code",
   "execution_count": 39,
   "id": "ff0caf35",
   "metadata": {},
   "outputs": [],
   "source": [
    "data = data.drop(columns=['table'])"
   ]
  },
  {
   "cell_type": "markdown",
   "id": "d770b38e",
   "metadata": {},
   "source": [
    "carat variable"
   ]
  },
  {
   "cell_type": "code",
   "execution_count": 40,
   "id": "cbae09b3",
   "metadata": {},
   "outputs": [
    {
     "data": {
      "image/png": "[encoded data removed]",
      "text/plain": [
       "<Figure size 360x360 with 1 Axes>"
      ]
     },
     "metadata": {
      "needs_background": "light"
     },
     "output_type": "display_data"
    }
   ],
   "source": [
    "# Histogram before transformation\n",
    "sns.displot(data['carat'], kde=True)\n",
    "plt.show()"
   ]
  },
  {
   "cell_type": "code",
   "execution_count": 41,
   "id": "1b5deb00",
   "metadata": {},
   "outputs": [
    {
     "data": {
      "text/html": [
       "<div>\n",
       "<style scoped>\n",
       "    .dataframe tbody tr th:only-of-type {\n",
       "        vertical-align: middle;\n",
       "    }\n",
       "\n",
       "    .dataframe tbody tr th {\n",
       "        vertical-align: top;\n",
       "    }\n",
       "\n",
       "    .dataframe thead th {\n",
       "        text-align: right;\n",
       "    }\n",
       "</style>\n",
       "<table border=\"1\" class=\"dataframe\">\n",
       "  <thead>\n",
       "    <tr style=\"text-align: right;\">\n",
       "      <th></th>\n",
       "      <th>Tranformation</th>\n",
       "      <th>Min</th>\n",
       "      <th>Max</th>\n",
       "      <th>Skew</th>\n",
       "    </tr>\n",
       "  </thead>\n",
       "  <tbody>\n",
       "    <tr>\n",
       "      <th>0</th>\n",
       "      <td>Given Series</td>\n",
       "      <td>0.20</td>\n",
       "      <td>5.01</td>\n",
       "      <td>1.12</td>\n",
       "    </tr>\n",
       "    <tr>\n",
       "      <th>1</th>\n",
       "      <td>Log</td>\n",
       "      <td>-1.61</td>\n",
       "      <td>1.61</td>\n",
       "      <td>0.10</td>\n",
       "    </tr>\n",
       "    <tr>\n",
       "      <th>2</th>\n",
       "      <td>Square root</td>\n",
       "      <td>0.45</td>\n",
       "      <td>2.24</td>\n",
       "      <td>0.55</td>\n",
       "    </tr>\n",
       "    <tr>\n",
       "      <th>3</th>\n",
       "      <td>Reciprocal</td>\n",
       "      <td>0.20</td>\n",
       "      <td>5.00</td>\n",
       "      <td>0.60</td>\n",
       "    </tr>\n",
       "    <tr>\n",
       "      <th>4</th>\n",
       "      <td>Box-Cox</td>\n",
       "      <td>-1.74</td>\n",
       "      <td>1.49</td>\n",
       "      <td>0.02</td>\n",
       "    </tr>\n",
       "  </tbody>\n",
       "</table>\n",
       "</div>"
      ],
      "text/plain": [
       "  Tranformation   Min   Max  Skew\n",
       "0  Given Series  0.20  5.01  1.12\n",
       "1           Log -1.61  1.61  0.10\n",
       "2   Square root  0.45  2.24  0.55\n",
       "3    Reciprocal  0.20  5.00  0.60\n",
       "4       Box-Cox -1.74  1.49  0.02"
      ]
     },
     "execution_count": 41,
     "metadata": {},
     "output_type": "execute_result"
    }
   ],
   "source": [
    "# Performing different transformations\n",
    "transform_skew(data['carat'])"
   ]
  },
  {
   "cell_type": "markdown",
   "id": "0b217474",
   "metadata": {},
   "source": [
    "After Observing min, max and skew values, the Square root transformation seems to be the best fit."
   ]
  },
  {
   "cell_type": "code",
   "execution_count": 42,
   "id": "afaf8648",
   "metadata": {},
   "outputs": [
    {
     "data": {
      "image/png": "[encoded data removed]",
      "text/plain": [
       "<Figure size 360x360 with 1 Axes>"
      ]
     },
     "metadata": {
      "needs_background": "light"
     },
     "output_type": "display_data"
    }
   ],
   "source": [
    "# Plotting the histogram after square root transformation\n",
    "sns.displot(np.sqrt(data['carat']), kde=True)\n",
    "plt.show()"
   ]
  },
  {
   "cell_type": "code",
   "execution_count": 43,
   "id": "0db551a9",
   "metadata": {},
   "outputs": [],
   "source": [
    "data['carat_transformed'] = np.sqrt(data['carat'])"
   ]
  },
  {
   "cell_type": "code",
   "execution_count": 44,
   "id": "aacccd68",
   "metadata": {},
   "outputs": [],
   "source": [
    "data = data.drop(columns=['carat'])"
   ]
  },
  {
   "cell_type": "code",
   "execution_count": 45,
   "id": "c6145262",
   "metadata": {},
   "outputs": [
    {
     "data": {
      "text/html": [
       "<div>\n",
       "<style scoped>\n",
       "    .dataframe tbody tr th:only-of-type {\n",
       "        vertical-align: middle;\n",
       "    }\n",
       "\n",
       "    .dataframe tbody tr th {\n",
       "        vertical-align: top;\n",
       "    }\n",
       "\n",
       "    .dataframe thead th {\n",
       "        text-align: right;\n",
       "    }\n",
       "</style>\n",
       "<table border=\"1\" class=\"dataframe\">\n",
       "  <thead>\n",
       "    <tr style=\"text-align: right;\">\n",
       "      <th></th>\n",
       "      <th>index</th>\n",
       "      <th>cut</th>\n",
       "      <th>color</th>\n",
       "      <th>clarity</th>\n",
       "      <th>volume</th>\n",
       "      <th>price_transformed</th>\n",
       "      <th>table_transformed</th>\n",
       "      <th>carat_transformed</th>\n",
       "    </tr>\n",
       "  </thead>\n",
       "  <tbody>\n",
       "    <tr>\n",
       "      <th>0</th>\n",
       "      <td>0</td>\n",
       "      <td>Ideal</td>\n",
       "      <td>E</td>\n",
       "      <td>SI2</td>\n",
       "      <td>38.202030</td>\n",
       "      <td>4.795646</td>\n",
       "      <td>4.007333</td>\n",
       "      <td>0.479583</td>\n",
       "    </tr>\n",
       "    <tr>\n",
       "      <th>1</th>\n",
       "      <td>1</td>\n",
       "      <td>Premium</td>\n",
       "      <td>E</td>\n",
       "      <td>SI1</td>\n",
       "      <td>34.505856</td>\n",
       "      <td>4.795646</td>\n",
       "      <td>4.110874</td>\n",
       "      <td>0.458258</td>\n",
       "    </tr>\n",
       "    <tr>\n",
       "      <th>2</th>\n",
       "      <td>2</td>\n",
       "      <td>Good</td>\n",
       "      <td>E</td>\n",
       "      <td>VS1</td>\n",
       "      <td>38.076885</td>\n",
       "      <td>4.797723</td>\n",
       "      <td>4.174387</td>\n",
       "      <td>0.479583</td>\n",
       "    </tr>\n",
       "    <tr>\n",
       "      <th>3</th>\n",
       "      <td>3</td>\n",
       "      <td>Premium</td>\n",
       "      <td>I</td>\n",
       "      <td>VS2</td>\n",
       "      <td>46.724580</td>\n",
       "      <td>4.812074</td>\n",
       "      <td>4.060443</td>\n",
       "      <td>0.538516</td>\n",
       "    </tr>\n",
       "    <tr>\n",
       "      <th>4</th>\n",
       "      <td>4</td>\n",
       "      <td>Good</td>\n",
       "      <td>J</td>\n",
       "      <td>SI2</td>\n",
       "      <td>51.917250</td>\n",
       "      <td>4.814098</td>\n",
       "      <td>4.060443</td>\n",
       "      <td>0.556776</td>\n",
       "    </tr>\n",
       "    <tr>\n",
       "      <th>...</th>\n",
       "      <td>...</td>\n",
       "      <td>...</td>\n",
       "      <td>...</td>\n",
       "      <td>...</td>\n",
       "      <td>...</td>\n",
       "      <td>...</td>\n",
       "      <td>...</td>\n",
       "      <td>...</td>\n",
       "    </tr>\n",
       "    <tr>\n",
       "      <th>53915</th>\n",
       "      <td>53915</td>\n",
       "      <td>Ideal</td>\n",
       "      <td>D</td>\n",
       "      <td>SI1</td>\n",
       "      <td>115.920000</td>\n",
       "      <td>6.144643</td>\n",
       "      <td>4.043051</td>\n",
       "      <td>0.848528</td>\n",
       "    </tr>\n",
       "    <tr>\n",
       "      <th>53916</th>\n",
       "      <td>53916</td>\n",
       "      <td>Good</td>\n",
       "      <td>D</td>\n",
       "      <td>SI1</td>\n",
       "      <td>118.110175</td>\n",
       "      <td>6.144643</td>\n",
       "      <td>4.007333</td>\n",
       "      <td>0.848528</td>\n",
       "    </tr>\n",
       "    <tr>\n",
       "      <th>53917</th>\n",
       "      <td>53917</td>\n",
       "      <td>Very Good</td>\n",
       "      <td>D</td>\n",
       "      <td>SI1</td>\n",
       "      <td>114.449728</td>\n",
       "      <td>6.144643</td>\n",
       "      <td>4.094345</td>\n",
       "      <td>0.836660</td>\n",
       "    </tr>\n",
       "    <tr>\n",
       "      <th>53918</th>\n",
       "      <td>53918</td>\n",
       "      <td>Premium</td>\n",
       "      <td>H</td>\n",
       "      <td>SI2</td>\n",
       "      <td>140.766120</td>\n",
       "      <td>6.144643</td>\n",
       "      <td>4.060443</td>\n",
       "      <td>0.927362</td>\n",
       "    </tr>\n",
       "    <tr>\n",
       "      <th>53919</th>\n",
       "      <td>53919</td>\n",
       "      <td>Ideal</td>\n",
       "      <td>D</td>\n",
       "      <td>SI2</td>\n",
       "      <td>124.568444</td>\n",
       "      <td>6.144643</td>\n",
       "      <td>4.007333</td>\n",
       "      <td>0.866025</td>\n",
       "    </tr>\n",
       "  </tbody>\n",
       "</table>\n",
       "<p>53920 rows × 8 columns</p>\n",
       "</div>"
      ],
      "text/plain": [
       "       index        cut color clarity      volume  price_transformed  \\\n",
       "0          0      Ideal     E     SI2   38.202030           4.795646   \n",
       "1          1    Premium     E     SI1   34.505856           4.795646   \n",
       "2          2       Good     E     VS1   38.076885           4.797723   \n",
       "3          3    Premium     I     VS2   46.724580           4.812074   \n",
       "4          4       Good     J     SI2   51.917250           4.814098   \n",
       "...      ...        ...   ...     ...         ...                ...   \n",
       "53915  53915      Ideal     D     SI1  115.920000           6.144643   \n",
       "53916  53916       Good     D     SI1  118.110175           6.144643   \n",
       "53917  53917  Very Good     D     SI1  114.449728           6.144643   \n",
       "53918  53918    Premium     H     SI2  140.766120           6.144643   \n",
       "53919  53919      Ideal     D     SI2  124.568444           6.144643   \n",
       "\n",
       "       table_transformed  carat_transformed  \n",
       "0               4.007333           0.479583  \n",
       "1               4.110874           0.458258  \n",
       "2               4.174387           0.479583  \n",
       "3               4.060443           0.538516  \n",
       "4               4.060443           0.556776  \n",
       "...                  ...                ...  \n",
       "53915           4.043051           0.848528  \n",
       "53916           4.007333           0.848528  \n",
       "53917           4.094345           0.836660  \n",
       "53918           4.060443           0.927362  \n",
       "53919           4.007333           0.866025  \n",
       "\n",
       "[53920 rows x 8 columns]"
      ]
     },
     "execution_count": 45,
     "metadata": {},
     "output_type": "execute_result"
    }
   ],
   "source": [
    "data.reset_index()"
   ]
  },
  {
   "cell_type": "code",
   "execution_count": 46,
   "id": "113041d2",
   "metadata": {},
   "outputs": [
    {
     "data": {
      "text/plain": [
       "volume               3.042694\n",
       "price_transformed    0.025624\n",
       "table_transformed    0.599299\n",
       "carat_transformed    0.548362\n",
       "dtype: float64"
      ]
     },
     "execution_count": 46,
     "metadata": {},
     "output_type": "execute_result"
    }
   ],
   "source": [
    "# checking the skewness of variables\n",
    "data.skew()"
   ]
  },
  {
   "cell_type": "code",
   "execution_count": 47,
   "id": "02bcb464",
   "metadata": {},
   "outputs": [
    {
     "data": {
      "text/html": [
       "<div>\n",
       "<style scoped>\n",
       "    .dataframe tbody tr th:only-of-type {\n",
       "        vertical-align: middle;\n",
       "    }\n",
       "\n",
       "    .dataframe tbody tr th {\n",
       "        vertical-align: top;\n",
       "    }\n",
       "\n",
       "    .dataframe thead th {\n",
       "        text-align: right;\n",
       "    }\n",
       "</style>\n",
       "<table border=\"1\" class=\"dataframe\">\n",
       "  <thead>\n",
       "    <tr style=\"text-align: right;\">\n",
       "      <th></th>\n",
       "      <th>cut</th>\n",
       "      <th>color</th>\n",
       "      <th>clarity</th>\n",
       "      <th>volume</th>\n",
       "      <th>price_transformed</th>\n",
       "      <th>table_transformed</th>\n",
       "      <th>carat_transformed</th>\n",
       "    </tr>\n",
       "  </thead>\n",
       "  <tbody>\n",
       "    <tr>\n",
       "      <th>0</th>\n",
       "      <td>Ideal</td>\n",
       "      <td>E</td>\n",
       "      <td>SI2</td>\n",
       "      <td>38.202030</td>\n",
       "      <td>4.795646</td>\n",
       "      <td>4.007333</td>\n",
       "      <td>0.479583</td>\n",
       "    </tr>\n",
       "    <tr>\n",
       "      <th>1</th>\n",
       "      <td>Premium</td>\n",
       "      <td>E</td>\n",
       "      <td>SI1</td>\n",
       "      <td>34.505856</td>\n",
       "      <td>4.795646</td>\n",
       "      <td>4.110874</td>\n",
       "      <td>0.458258</td>\n",
       "    </tr>\n",
       "    <tr>\n",
       "      <th>2</th>\n",
       "      <td>Good</td>\n",
       "      <td>E</td>\n",
       "      <td>VS1</td>\n",
       "      <td>38.076885</td>\n",
       "      <td>4.797723</td>\n",
       "      <td>4.174387</td>\n",
       "      <td>0.479583</td>\n",
       "    </tr>\n",
       "    <tr>\n",
       "      <th>3</th>\n",
       "      <td>Premium</td>\n",
       "      <td>I</td>\n",
       "      <td>VS2</td>\n",
       "      <td>46.724580</td>\n",
       "      <td>4.812074</td>\n",
       "      <td>4.060443</td>\n",
       "      <td>0.538516</td>\n",
       "    </tr>\n",
       "    <tr>\n",
       "      <th>4</th>\n",
       "      <td>Good</td>\n",
       "      <td>J</td>\n",
       "      <td>SI2</td>\n",
       "      <td>51.917250</td>\n",
       "      <td>4.814098</td>\n",
       "      <td>4.060443</td>\n",
       "      <td>0.556776</td>\n",
       "    </tr>\n",
       "  </tbody>\n",
       "</table>\n",
       "</div>"
      ],
      "text/plain": [
       "       cut color clarity     volume  price_transformed  table_transformed  \\\n",
       "0    Ideal     E     SI2  38.202030           4.795646           4.007333   \n",
       "1  Premium     E     SI1  34.505856           4.795646           4.110874   \n",
       "2     Good     E     VS1  38.076885           4.797723           4.174387   \n",
       "3  Premium     I     VS2  46.724580           4.812074           4.060443   \n",
       "4     Good     J     SI2  51.917250           4.814098           4.060443   \n",
       "\n",
       "   carat_transformed  \n",
       "0           0.479583  \n",
       "1           0.458258  \n",
       "2           0.479583  \n",
       "3           0.538516  \n",
       "4           0.556776  "
      ]
     },
     "execution_count": 47,
     "metadata": {},
     "output_type": "execute_result"
    }
   ],
   "source": [
    "data.head()"
   ]
  },
  {
   "cell_type": "code",
   "execution_count": 48,
   "id": "e61c315e",
   "metadata": {},
   "outputs": [],
   "source": [
    "# Rearranging columns\n",
    "data = data[['price_transformed', 'cut', 'color', 'clarity', 'carat_transformed',\n",
    "                'table_transformed','volume']]"
   ]
  },
  {
   "cell_type": "code",
   "execution_count": 49,
   "id": "b9785457",
   "metadata": {},
   "outputs": [
    {
     "data": {
      "text/html": [
       "<div>\n",
       "<style scoped>\n",
       "    .dataframe tbody tr th:only-of-type {\n",
       "        vertical-align: middle;\n",
       "    }\n",
       "\n",
       "    .dataframe tbody tr th {\n",
       "        vertical-align: top;\n",
       "    }\n",
       "\n",
       "    .dataframe thead th {\n",
       "        text-align: right;\n",
       "    }\n",
       "</style>\n",
       "<table border=\"1\" class=\"dataframe\">\n",
       "  <thead>\n",
       "    <tr style=\"text-align: right;\">\n",
       "      <th></th>\n",
       "      <th>price_transformed</th>\n",
       "      <th>cut</th>\n",
       "      <th>color</th>\n",
       "      <th>clarity</th>\n",
       "      <th>carat_transformed</th>\n",
       "      <th>table_transformed</th>\n",
       "      <th>volume</th>\n",
       "    </tr>\n",
       "  </thead>\n",
       "  <tbody>\n",
       "    <tr>\n",
       "      <th>0</th>\n",
       "      <td>4.795646</td>\n",
       "      <td>Ideal</td>\n",
       "      <td>E</td>\n",
       "      <td>SI2</td>\n",
       "      <td>0.479583</td>\n",
       "      <td>4.007333</td>\n",
       "      <td>38.202030</td>\n",
       "    </tr>\n",
       "    <tr>\n",
       "      <th>1</th>\n",
       "      <td>4.795646</td>\n",
       "      <td>Premium</td>\n",
       "      <td>E</td>\n",
       "      <td>SI1</td>\n",
       "      <td>0.458258</td>\n",
       "      <td>4.110874</td>\n",
       "      <td>34.505856</td>\n",
       "    </tr>\n",
       "    <tr>\n",
       "      <th>2</th>\n",
       "      <td>4.797723</td>\n",
       "      <td>Good</td>\n",
       "      <td>E</td>\n",
       "      <td>VS1</td>\n",
       "      <td>0.479583</td>\n",
       "      <td>4.174387</td>\n",
       "      <td>38.076885</td>\n",
       "    </tr>\n",
       "    <tr>\n",
       "      <th>3</th>\n",
       "      <td>4.812074</td>\n",
       "      <td>Premium</td>\n",
       "      <td>I</td>\n",
       "      <td>VS2</td>\n",
       "      <td>0.538516</td>\n",
       "      <td>4.060443</td>\n",
       "      <td>46.724580</td>\n",
       "    </tr>\n",
       "    <tr>\n",
       "      <th>4</th>\n",
       "      <td>4.814098</td>\n",
       "      <td>Good</td>\n",
       "      <td>J</td>\n",
       "      <td>SI2</td>\n",
       "      <td>0.556776</td>\n",
       "      <td>4.060443</td>\n",
       "      <td>51.917250</td>\n",
       "    </tr>\n",
       "  </tbody>\n",
       "</table>\n",
       "</div>"
      ],
      "text/plain": [
       "   price_transformed      cut color clarity  carat_transformed  \\\n",
       "0           4.795646    Ideal     E     SI2           0.479583   \n",
       "1           4.795646  Premium     E     SI1           0.458258   \n",
       "2           4.797723     Good     E     VS1           0.479583   \n",
       "3           4.812074  Premium     I     VS2           0.538516   \n",
       "4           4.814098     Good     J     SI2           0.556776   \n",
       "\n",
       "   table_transformed     volume  \n",
       "0           4.007333  38.202030  \n",
       "1           4.110874  34.505856  \n",
       "2           4.174387  38.076885  \n",
       "3           4.060443  46.724580  \n",
       "4           4.060443  51.917250  "
      ]
     },
     "execution_count": 49,
     "metadata": {},
     "output_type": "execute_result"
    }
   ],
   "source": [
    "data.head()"
   ]
  },
  {
   "cell_type": "markdown",
   "id": "4a1cf1a8",
   "metadata": {},
   "source": [
    "# Bivariate analysis"
   ]
  },
  {
   "cell_type": "code",
   "execution_count": 50,
   "id": "52769961",
   "metadata": {},
   "outputs": [
    {
     "data": {
      "text/html": [
       "<div>\n",
       "<style scoped>\n",
       "    .dataframe tbody tr th:only-of-type {\n",
       "        vertical-align: middle;\n",
       "    }\n",
       "\n",
       "    .dataframe tbody tr th {\n",
       "        vertical-align: top;\n",
       "    }\n",
       "\n",
       "    .dataframe thead th {\n",
       "        text-align: right;\n",
       "    }\n",
       "</style>\n",
       "<table border=\"1\" class=\"dataframe\">\n",
       "  <thead>\n",
       "    <tr style=\"text-align: right;\">\n",
       "      <th></th>\n",
       "      <th>price_transformed</th>\n",
       "      <th>carat_transformed</th>\n",
       "      <th>table_transformed</th>\n",
       "      <th>volume</th>\n",
       "    </tr>\n",
       "  </thead>\n",
       "  <tbody>\n",
       "    <tr>\n",
       "      <th>price_transformed</th>\n",
       "      <td>1.000000</td>\n",
       "      <td>0.950912</td>\n",
       "      <td>0.160609</td>\n",
       "      <td>0.894328</td>\n",
       "    </tr>\n",
       "    <tr>\n",
       "      <th>carat_transformed</th>\n",
       "      <td>0.950912</td>\n",
       "      <td>1.000000</td>\n",
       "      <td>0.190884</td>\n",
       "      <td>0.966848</td>\n",
       "    </tr>\n",
       "    <tr>\n",
       "      <th>table_transformed</th>\n",
       "      <td>0.160609</td>\n",
       "      <td>0.190884</td>\n",
       "      <td>1.000000</td>\n",
       "      <td>0.169229</td>\n",
       "    </tr>\n",
       "    <tr>\n",
       "      <th>volume</th>\n",
       "      <td>0.894328</td>\n",
       "      <td>0.966848</td>\n",
       "      <td>0.169229</td>\n",
       "      <td>1.000000</td>\n",
       "    </tr>\n",
       "  </tbody>\n",
       "</table>\n",
       "</div>"
      ],
      "text/plain": [
       "                   price_transformed  carat_transformed  table_transformed  \\\n",
       "price_transformed           1.000000           0.950912           0.160609   \n",
       "carat_transformed           0.950912           1.000000           0.190884   \n",
       "table_transformed           0.160609           0.190884           1.000000   \n",
       "volume                      0.894328           0.966848           0.169229   \n",
       "\n",
       "                     volume  \n",
       "price_transformed  0.894328  \n",
       "carat_transformed  0.966848  \n",
       "table_transformed  0.169229  \n",
       "volume             1.000000  "
      ]
     },
     "execution_count": 50,
     "metadata": {},
     "output_type": "execute_result"
    }
   ],
   "source": [
    "# checking the correlation\n",
    "data.corr()"
   ]
  },
  {
   "cell_type": "markdown",
   "id": "aeaebbdb",
   "metadata": {},
   "source": [
    "Table column can be dropped as it doesnt show any impact with dependent variable price"
   ]
  },
  {
   "cell_type": "code",
   "execution_count": 51,
   "id": "ba31535f",
   "metadata": {},
   "outputs": [],
   "source": [
    "data.drop('table_transformed',axis=1,inplace=True)"
   ]
  },
  {
   "cell_type": "code",
   "execution_count": 52,
   "id": "caaaa183",
   "metadata": {},
   "outputs": [
    {
     "data": {
      "text/html": [
       "<div>\n",
       "<style scoped>\n",
       "    .dataframe tbody tr th:only-of-type {\n",
       "        vertical-align: middle;\n",
       "    }\n",
       "\n",
       "    .dataframe tbody tr th {\n",
       "        vertical-align: top;\n",
       "    }\n",
       "\n",
       "    .dataframe thead th {\n",
       "        text-align: right;\n",
       "    }\n",
       "</style>\n",
       "<table border=\"1\" class=\"dataframe\">\n",
       "  <thead>\n",
       "    <tr style=\"text-align: right;\">\n",
       "      <th></th>\n",
       "      <th>price_transformed</th>\n",
       "      <th>cut</th>\n",
       "      <th>color</th>\n",
       "      <th>clarity</th>\n",
       "      <th>carat_transformed</th>\n",
       "      <th>volume</th>\n",
       "    </tr>\n",
       "  </thead>\n",
       "  <tbody>\n",
       "    <tr>\n",
       "      <th>0</th>\n",
       "      <td>4.795646</td>\n",
       "      <td>Ideal</td>\n",
       "      <td>E</td>\n",
       "      <td>SI2</td>\n",
       "      <td>0.479583</td>\n",
       "      <td>38.202030</td>\n",
       "    </tr>\n",
       "    <tr>\n",
       "      <th>1</th>\n",
       "      <td>4.795646</td>\n",
       "      <td>Premium</td>\n",
       "      <td>E</td>\n",
       "      <td>SI1</td>\n",
       "      <td>0.458258</td>\n",
       "      <td>34.505856</td>\n",
       "    </tr>\n",
       "    <tr>\n",
       "      <th>2</th>\n",
       "      <td>4.797723</td>\n",
       "      <td>Good</td>\n",
       "      <td>E</td>\n",
       "      <td>VS1</td>\n",
       "      <td>0.479583</td>\n",
       "      <td>38.076885</td>\n",
       "    </tr>\n",
       "    <tr>\n",
       "      <th>3</th>\n",
       "      <td>4.812074</td>\n",
       "      <td>Premium</td>\n",
       "      <td>I</td>\n",
       "      <td>VS2</td>\n",
       "      <td>0.538516</td>\n",
       "      <td>46.724580</td>\n",
       "    </tr>\n",
       "    <tr>\n",
       "      <th>4</th>\n",
       "      <td>4.814098</td>\n",
       "      <td>Good</td>\n",
       "      <td>J</td>\n",
       "      <td>SI2</td>\n",
       "      <td>0.556776</td>\n",
       "      <td>51.917250</td>\n",
       "    </tr>\n",
       "  </tbody>\n",
       "</table>\n",
       "</div>"
      ],
      "text/plain": [
       "   price_transformed      cut color clarity  carat_transformed     volume\n",
       "0           4.795646    Ideal     E     SI2           0.479583  38.202030\n",
       "1           4.795646  Premium     E     SI1           0.458258  34.505856\n",
       "2           4.797723     Good     E     VS1           0.479583  38.076885\n",
       "3           4.812074  Premium     I     VS2           0.538516  46.724580\n",
       "4           4.814098     Good     J     SI2           0.556776  51.917250"
      ]
     },
     "execution_count": 52,
     "metadata": {},
     "output_type": "execute_result"
    }
   ],
   "source": [
    "data.head()"
   ]
  },
  {
   "cell_type": "code",
   "execution_count": 53,
   "id": "e03ef3ec",
   "metadata": {},
   "outputs": [
    {
     "data": {
      "image/png": "[encoded data removed]",
      "text/plain": [
       "<Figure size 864x576 with 1 Axes>"
      ]
     },
     "metadata": {
      "needs_background": "light"
     },
     "output_type": "display_data"
    }
   ],
   "source": [
    "# Scatter plot between number of carats and price of diamonds\n",
    "plt.figure(figsize=(12,8))\n",
    "plt.scatter(data['carat_transformed'],\n",
    "            data['price_transformed'],\n",
    "            alpha=0.6)\n",
    "plt.title('carat vs price', fontsize=14, weight='bold')\n",
    "plt.xlabel('carat', weight='bold')\n",
    "plt.ylabel('price', weight='bold')\n",
    "plt.show()"
   ]
  },
  {
   "cell_type": "markdown",
   "id": "dc2dabfd",
   "metadata": {},
   "source": [
    "We can observe that there are some outliers in the scatter plot when the Carat value is high. \n",
    "One way to resolve this issue is by trimming the Carat variable values above 99th percentile."
   ]
  },
  {
   "cell_type": "code",
   "execution_count": 54,
   "id": "5faa282d",
   "metadata": {},
   "outputs": [],
   "source": [
    "result1 = data['carat_transformed'].quantile(0.99)\n",
    "result2 = all_columns_data['carat'].quantile(0.99)"
   ]
  },
  {
   "cell_type": "code",
   "execution_count": 55,
   "id": "c37ebc87",
   "metadata": {},
   "outputs": [],
   "source": [
    "data = data[data['carat_transformed'] < result1]\n",
    "all_columns_data = all_columns_data[all_columns_data['carat'] < result2]"
   ]
  },
  {
   "cell_type": "code",
   "execution_count": 56,
   "id": "b6ee5e32",
   "metadata": {},
   "outputs": [],
   "source": [
    "# Resetting index\n",
    "data = data.reset_index(drop=True)\n",
    "all_columns_data = all_columns_data.reset_index(drop=True)"
   ]
  },
  {
   "cell_type": "code",
   "execution_count": 57,
   "id": "31d6e506",
   "metadata": {},
   "outputs": [
    {
     "data": {
      "text/plain": [
       "0.46"
      ]
     },
     "execution_count": 57,
     "metadata": {},
     "output_type": "execute_result"
    }
   ],
   "source": [
    "skew = stats.skew(data['carat_transformed'])\n",
    "np.around(skew, 2)"
   ]
  },
  {
   "cell_type": "code",
   "execution_count": 58,
   "id": "a70d47b3",
   "metadata": {},
   "outputs": [
    {
     "data": {
      "image/png": "[encoded data removed]",
      "text/plain": [
       "<Figure size 864x576 with 1 Axes>"
      ]
     },
     "metadata": {
      "needs_background": "light"
     },
     "output_type": "display_data"
    }
   ],
   "source": [
    "# Now lets look at the scatter plot after removing outliers\n",
    "plt.figure(figsize=(12,8))\n",
    "plt.scatter(data['carat_transformed'],\n",
    "            data['price_transformed'],\n",
    "            alpha=0.6)\n",
    "plt.title('carat vs price', fontsize=14, weight='bold')\n",
    "plt.xlabel('carat', weight='bold')\n",
    "plt.ylabel('price', weight='bold')\n",
    "plt.show()"
   ]
  },
  {
   "cell_type": "code",
   "execution_count": 59,
   "id": "2aaacf4a",
   "metadata": {},
   "outputs": [
    {
     "data": {
      "text/plain": [
       "Index(['price_transformed', 'cut', 'color', 'clarity', 'carat_transformed',\n",
       "       'volume'],\n",
       "      dtype='object')"
      ]
     },
     "execution_count": 59,
     "metadata": {},
     "output_type": "execute_result"
    }
   ],
   "source": [
    "data.columns"
   ]
  },
  {
   "cell_type": "code",
   "execution_count": 60,
   "id": "f868b9c7",
   "metadata": {},
   "outputs": [],
   "source": [
    "def barplot(column,data):\n",
    "    bar_plot1 = sns.countplot(x=column, data=data)\n",
    "    \n",
    "    total = len(data[column])\n",
    "    for p in bar_plot1.patches:\n",
    "        percentage = '{:.2f}%'.format(100 * p.get_height()/total)\n",
    "        height = p.get_height()\n",
    "        bar_plot1.text(p.get_x()+ p.get_width()/2, height + 30, percentage, ha=\"center\")"
   ]
  },
  {
   "cell_type": "code",
   "execution_count": 61,
   "id": "4c5d150a",
   "metadata": {},
   "outputs": [
    {
     "data": {
      "image/png": "[encoded data removed]",
      "text/plain": [
       "<Figure size 432x288 with 1 Axes>"
      ]
     },
     "metadata": {
      "needs_background": "light"
     },
     "output_type": "display_data"
    }
   ],
   "source": [
    "barplot(\"cut\",data)"
   ]
  },
  {
   "cell_type": "code",
   "execution_count": 62,
   "id": "330d45a7",
   "metadata": {},
   "outputs": [
    {
     "data": {
      "image/png": "[encoded data removed]",
      "text/plain": [
       "<Figure size 432x288 with 1 Axes>"
      ]
     },
     "metadata": {
      "needs_background": "light"
     },
     "output_type": "display_data"
    }
   ],
   "source": [
    "barplot('color',data)"
   ]
  },
  {
   "cell_type": "code",
   "execution_count": 63,
   "id": "0d1dc2d8",
   "metadata": {},
   "outputs": [
    {
     "data": {
      "image/png": "[encoded data removed]",
      "text/plain": [
       "<Figure size 432x288 with 1 Axes>"
      ]
     },
     "metadata": {
      "needs_background": "light"
     },
     "output_type": "display_data"
    }
   ],
   "source": [
    "barplot('clarity',data)"
   ]
  },
  {
   "cell_type": "markdown",
   "id": "5a73cde1",
   "metadata": {},
   "source": [
    "# Step - 3:\n",
    "    Handle Categorical Columns \n",
    "    i.e. convert them to numerical representation (TODO - Wisely choose between LabelEncoding and OneHotEncoding)"
   ]
  },
  {
   "cell_type": "code",
   "execution_count": 64,
   "id": "b546831a",
   "metadata": {},
   "outputs": [
    {
     "data": {
      "text/plain": [
       "price_transformed    float64\n",
       "cut                   object\n",
       "color                 object\n",
       "clarity               object\n",
       "carat_transformed    float64\n",
       "volume               float64\n",
       "dtype: object"
      ]
     },
     "execution_count": 64,
     "metadata": {},
     "output_type": "execute_result"
    }
   ],
   "source": [
    "data.dtypes"
   ]
  },
  {
   "cell_type": "code",
   "execution_count": 65,
   "id": "afdb63cc",
   "metadata": {},
   "outputs": [],
   "source": [
    "# converting to appropriate datatypes\n",
    "\n",
    "num_attr=['price_transformed','carat_transformed','volume']\n",
    "data[num_attr] = data[num_attr].astype('int')"
   ]
  },
  {
   "cell_type": "code",
   "execution_count": 66,
   "id": "cffbe56d",
   "metadata": {},
   "outputs": [],
   "source": [
    "cat_attr=['cut','color','clarity']\n",
    "data[cat_attr]=data[cat_attr].astype('category')"
   ]
  },
  {
   "cell_type": "code",
   "execution_count": 67,
   "id": "691dd67e",
   "metadata": {},
   "outputs": [
    {
     "data": {
      "text/plain": [
       "price_transformed       int32\n",
       "cut                  category\n",
       "color                category\n",
       "clarity              category\n",
       "carat_transformed       int32\n",
       "volume                  int32\n",
       "dtype: object"
      ]
     },
     "execution_count": 67,
     "metadata": {},
     "output_type": "execute_result"
    }
   ],
   "source": [
    "data.dtypes"
   ]
  },
  {
   "cell_type": "code",
   "execution_count": 68,
   "id": "a8ae5103",
   "metadata": {},
   "outputs": [
    {
     "data": {
      "text/plain": [
       "<AxesSubplot:>"
      ]
     },
     "execution_count": 68,
     "metadata": {},
     "output_type": "execute_result"
    },
    {
     "data": {
      "image/png": "[encoded data removed]",
      "text/plain": [
       "<Figure size 432x288 with 2 Axes>"
      ]
     },
     "metadata": {
      "needs_background": "light"
     },
     "output_type": "display_data"
    }
   ],
   "source": [
    "sns.heatmap(data.corr(),annot=True)"
   ]
  },
  {
   "cell_type": "markdown",
   "id": "6b9e1139",
   "metadata": {},
   "source": [
    "# Step - 4: \n",
    "    Normalise the data"
   ]
  },
  {
   "cell_type": "code",
   "execution_count": 69,
   "id": "40b81a62",
   "metadata": {},
   "outputs": [
    {
     "data": {
      "image/png": "[encoded data removed]",
      "text/plain": [
       "<Figure size 1080x864 with 4 Axes>"
      ]
     },
     "metadata": {
      "needs_background": "light"
     },
     "output_type": "display_data"
    }
   ],
   "source": [
    "data.hist(figsize=(15,12));"
   ]
  },
  {
   "cell_type": "markdown",
   "id": "a74d2369",
   "metadata": {},
   "source": [
    "# Step - 5: \n",
    "    Split the data - Test and Train (recommended 75:25 split)"
   ]
  },
  {
   "cell_type": "code",
   "execution_count": 70,
   "id": "69e50baa",
   "metadata": {},
   "outputs": [],
   "source": [
    "X = data.drop('price_transformed', axis=1)\n",
    "y = data['price_transformed']\n",
    "\n",
    "X_train, X_test, y_train, y_test = train_test_split(X, y, test_size=0.30, random_state=123) "
   ]
  },
  {
   "cell_type": "code",
   "execution_count": 71,
   "id": "dee06c8f",
   "metadata": {},
   "outputs": [
    {
     "data": {
      "text/plain": [
       "(37364, 5)"
      ]
     },
     "execution_count": 71,
     "metadata": {},
     "output_type": "execute_result"
    }
   ],
   "source": [
    "X_train.shape"
   ]
  },
  {
   "cell_type": "code",
   "execution_count": 72,
   "id": "2206fd15",
   "metadata": {},
   "outputs": [
    {
     "data": {
      "text/plain": [
       "(16014, 5)"
      ]
     },
     "execution_count": 72,
     "metadata": {},
     "output_type": "execute_result"
    }
   ],
   "source": [
    "X_test.shape"
   ]
  },
  {
   "cell_type": "markdown",
   "id": "d14d3f65",
   "metadata": {},
   "source": [
    "# Converting categorical attributes to numeric attributes"
   ]
  },
  {
   "cell_type": "code",
   "execution_count": 73,
   "id": "036b621c",
   "metadata": {},
   "outputs": [
    {
     "data": {
      "text/plain": [
       "Index(['cut', 'color', 'clarity'], dtype='object')"
      ]
     },
     "execution_count": 73,
     "metadata": {},
     "output_type": "execute_result"
    }
   ],
   "source": [
    "cat_attr = X_train.select_dtypes(include=['category']).columns\n",
    "cat_attr"
   ]
  },
  {
   "cell_type": "code",
   "execution_count": 74,
   "id": "6dfe1f76",
   "metadata": {},
   "outputs": [
    {
     "data": {
      "text/plain": [
       "OneHotEncoder(drop='first')"
      ]
     },
     "execution_count": 74,
     "metadata": {},
     "output_type": "execute_result"
    }
   ],
   "source": [
    "enc = OneHotEncoder(drop = 'first')\n",
    "\n",
    "enc.fit(X_train[cat_attr])"
   ]
  },
  {
   "cell_type": "code",
   "execution_count": 75,
   "id": "44a120e2",
   "metadata": {},
   "outputs": [],
   "source": [
    "col_names = enc.get_feature_names()"
   ]
  },
  {
   "cell_type": "code",
   "execution_count": 76,
   "id": "53a40b7d",
   "metadata": {},
   "outputs": [
    {
     "data": {
      "text/plain": [
       "array(['x0_Good', 'x0_Ideal', 'x0_Premium', 'x0_Very Good', 'x1_E',\n",
       "       'x1_F', 'x1_G', 'x1_H', 'x1_I', 'x1_J', 'x2_IF', 'x2_SI1',\n",
       "       'x2_SI2', 'x2_VS1', 'x2_VS2', 'x2_VVS1', 'x2_VVS2'], dtype=object)"
      ]
     },
     "execution_count": 76,
     "metadata": {},
     "output_type": "execute_result"
    }
   ],
   "source": [
    "col_names"
   ]
  },
  {
   "cell_type": "code",
   "execution_count": 77,
   "id": "b21a44be",
   "metadata": {},
   "outputs": [],
   "source": [
    "X_train_ohe=enc.transform(X_train[cat_attr]).toarray()\n",
    "X_test_ohe=enc.transform(X_test[cat_attr]).toarray()"
   ]
  },
  {
   "cell_type": "code",
   "execution_count": 78,
   "id": "1a131376",
   "metadata": {},
   "outputs": [
    {
     "data": {
      "text/plain": [
       "array([[0., 0., 1., 0., 1., 0., 0., 0., 0., 0., 0., 0., 0., 1., 0., 0.,\n",
       "        0.],\n",
       "       [1., 0., 0., 0., 0., 0., 1., 0., 0., 0., 0., 0., 0., 1., 0., 0.,\n",
       "        0.],\n",
       "       [0., 0., 0., 1., 0., 0., 1., 0., 0., 0., 0., 1., 0., 0., 0., 0.,\n",
       "        0.],\n",
       "       [0., 0., 1., 0., 0., 0., 0., 0., 0., 0., 0., 1., 0., 0., 0., 0.,\n",
       "        0.],\n",
       "       [0., 0., 1., 0., 0., 0., 0., 0., 0., 1., 0., 1., 0., 0., 0., 0.,\n",
       "        0.],\n",
       "       [0., 0., 1., 0., 0., 0., 1., 0., 0., 0., 0., 0., 0., 0., 1., 0.,\n",
       "        0.],\n",
       "       [0., 1., 0., 0., 1., 0., 0., 0., 0., 0., 0., 0., 0., 0., 1., 0.,\n",
       "        0.],\n",
       "       [0., 0., 0., 1., 0., 1., 0., 0., 0., 0., 0., 0., 0., 0., 1., 0.,\n",
       "        0.],\n",
       "       [1., 0., 0., 0., 0., 0., 0., 0., 0., 1., 0., 0., 0., 0., 1., 0.,\n",
       "        0.],\n",
       "       [0., 0., 0., 1., 0., 0., 0., 0., 0., 0., 0., 1., 0., 0., 0., 0.,\n",
       "        0.]])"
      ]
     },
     "execution_count": 78,
     "metadata": {},
     "output_type": "execute_result"
    }
   ],
   "source": [
    "X_train_ohe[0:10]"
   ]
  },
  {
   "cell_type": "markdown",
   "id": "fe731607",
   "metadata": {},
   "source": [
    "# Standardizing numeric Attributes"
   ]
  },
  {
   "cell_type": "code",
   "execution_count": 79,
   "id": "1dbf8201",
   "metadata": {},
   "outputs": [
    {
     "data": {
      "text/plain": [
       "Index(['carat_transformed', 'volume'], dtype='object')"
      ]
     },
     "execution_count": 79,
     "metadata": {},
     "output_type": "execute_result"
    }
   ],
   "source": [
    "num_attr = X_train.select_dtypes(include=['int32']).columns\n",
    "num_attr"
   ]
  },
  {
   "cell_type": "code",
   "execution_count": 80,
   "id": "41a3208f",
   "metadata": {},
   "outputs": [
    {
     "data": {
      "text/plain": [
       "StandardScaler()"
      ]
     },
     "execution_count": 80,
     "metadata": {},
     "output_type": "execute_result"
    }
   ],
   "source": [
    "scaler = StandardScaler()\n",
    "scaler.fit(X_train[num_attr])"
   ]
  },
  {
   "cell_type": "code",
   "execution_count": 81,
   "id": "57544d0e",
   "metadata": {},
   "outputs": [],
   "source": [
    "X_train_std = scaler.transform(X_train[num_attr])\n",
    "X_test_std = scaler.transform(X_test[num_attr])"
   ]
  },
  {
   "cell_type": "code",
   "execution_count": 82,
   "id": "d33067d4",
   "metadata": {},
   "outputs": [
    {
     "name": "stdout",
     "output_type": "stream",
     "text": [
      "(37364, 2)\n",
      "(16014, 2)\n"
     ]
    }
   ],
   "source": [
    "print(X_train_std.shape)\n",
    "print(X_test_std.shape)"
   ]
  },
  {
   "cell_type": "code",
   "execution_count": 83,
   "id": "cfeb3e2f",
   "metadata": {},
   "outputs": [],
   "source": [
    "X_train_con = np.concatenate([X_train_std, X_train_ohe], axis=1)\n",
    "X_test_con = np.concatenate([X_test_std, X_test_ohe], axis=1)"
   ]
  },
  {
   "cell_type": "code",
   "execution_count": 84,
   "id": "670b15b3",
   "metadata": {},
   "outputs": [
    {
     "data": {
      "text/plain": [
       "(37364, 19)"
      ]
     },
     "execution_count": 84,
     "metadata": {},
     "output_type": "execute_result"
    }
   ],
   "source": [
    "X_train_con.shape"
   ]
  },
  {
   "cell_type": "markdown",
   "id": "7e255985",
   "metadata": {},
   "source": [
    "# Implementing KNN from scratch\n",
    "Creating a functioning KNN classifier can be broken down into several steps. \n",
    "\n",
    "While KNN includes a bit more nuance than this, here’s my bare-bones to-do list:\n",
    "\n",
    "Define a function to calculate the distance between two points\n",
    "\n",
    "Use the distance function to get the distance between a test point and all known data points\n",
    "\n",
    "Sort distance measurements to find the points closest to the test point (i.e., find the nearest neighbors)\n",
    "\n",
    "Use majority class labels of those closest points to predict the label of the test point\n",
    "\n",
    "Repeat steps 1 through 4 until all test data points are classified"
   ]
  },
  {
   "cell_type": "code",
   "execution_count": 87,
   "id": "3f4546ea",
   "metadata": {},
   "outputs": [],
   "source": [
    "from sklearn.neighbors import KNeighborsRegressor"
   ]
  },
  {
   "cell_type": "code",
   "execution_count": 88,
   "id": "0b15f99c",
   "metadata": {},
   "outputs": [
    {
     "data": {
      "text/plain": [
       "KNeighborsRegressor()"
      ]
     },
     "execution_count": 88,
     "metadata": {},
     "output_type": "execute_result"
    }
   ],
   "source": [
    "model= KNeighborsRegressor( )\n",
    "model.fit(X_train_con, y_train)"
   ]
  },
  {
   "cell_type": "code",
   "execution_count": 89,
   "id": "79be0bea",
   "metadata": {},
   "outputs": [],
   "source": [
    "train_pred = model.predict(X_train_con)\n",
    "test_pred = model.predict(X_test_con)"
   ]
  },
  {
   "cell_type": "code",
   "execution_count": 90,
   "id": "0abc6679",
   "metadata": {},
   "outputs": [
    {
     "name": "stdout",
     "output_type": "stream",
     "text": [
      "The Mean Absolute Error on train dataset: 0.0461032009420833 \n",
      "\n",
      "The Mean Absolute Error on test dataset: 0.057961783439490454 \n",
      "\n",
      "The Mean Squared Error on train dataset: 0.02301573707311851 \n",
      "\n",
      "The Mean Squared Error on test dataset: 0.03452229299363058 \n",
      "\n",
      "The Root Mean Squared Error on train dataset: 0.15170938360272415 \n",
      "\n",
      "The Root Mean Squared Error on test dataset: 0.18580175724042702 \n",
      "\n",
      "The Mean Absolute Percentage Error on train dataset: 0.8415867578162838 \n",
      "\n",
      "The Mean Absolute Percentage Error on test dataset: 1.0551957513366284 \n",
      "\n"
     ]
    }
   ],
   "source": [
    "print(\"The Mean Absolute Error on train dataset: {} \\n\".format(mean_absolute_error(y_pred=train_pred,y_true=y_train)))\n",
    "print(\"The Mean Absolute Error on test dataset: {} \\n\".format(mean_absolute_error(y_pred=test_pred,y_true=y_test)))\n",
    "\n",
    "print(\"The Mean Squared Error on train dataset: {} \\n\".format(mean_squared_error(y_pred=train_pred,y_true=y_train)))\n",
    "print(\"The Mean Squared Error on test dataset: {} \\n\".format(mean_squared_error(y_pred=test_pred,y_true=y_test)))\n",
    "\n",
    "print(\"The Root Mean Squared Error on train dataset: {} \\n\".format(math.sqrt(mean_squared_error(y_pred=train_pred,y_true=y_train))))\n",
    "print(\"The Root Mean Squared Error on test dataset: {} \\n\".format(math.sqrt(mean_squared_error(y_pred=test_pred,y_true=y_test))))\n",
    "\n",
    "def mean_absolute_percentage_error(y_true, y_pred): \n",
    "    y_true, y_pred = np.array(y_true), np.array(y_pred)\n",
    "    return np.mean(np.abs((y_true - y_pred) / y_true)) * 100\n",
    "\n",
    "print(\"The Mean Absolute Percentage Error on train dataset: {} \\n\".format(mean_absolute_percentage_error(y_pred=train_pred,y_true=y_train)))\n",
    "print(\"The Mean Absolute Percentage Error on test dataset: {} \\n\".format(mean_absolute_percentage_error(y_pred=test_pred,y_true=y_test)))\n"
   ]
  },
  {
   "cell_type": "code",
   "execution_count": 91,
   "id": "72d3dfaf",
   "metadata": {},
   "outputs": [
    {
     "data": {
      "text/html": [
       "<div>\n",
       "<style scoped>\n",
       "    .dataframe tbody tr th:only-of-type {\n",
       "        vertical-align: middle;\n",
       "    }\n",
       "\n",
       "    .dataframe tbody tr th {\n",
       "        vertical-align: top;\n",
       "    }\n",
       "\n",
       "    .dataframe thead th {\n",
       "        text-align: right;\n",
       "    }\n",
       "</style>\n",
       "<table border=\"1\" class=\"dataframe\">\n",
       "  <thead>\n",
       "    <tr style=\"text-align: right;\">\n",
       "      <th></th>\n",
       "      <th>carat_transformed</th>\n",
       "      <th>volume</th>\n",
       "    </tr>\n",
       "  </thead>\n",
       "  <tbody>\n",
       "    <tr>\n",
       "      <th>carat_transformed</th>\n",
       "      <td>1.000000</td>\n",
       "      <td>0.805735</td>\n",
       "    </tr>\n",
       "    <tr>\n",
       "      <th>volume</th>\n",
       "      <td>0.805735</td>\n",
       "      <td>1.000000</td>\n",
       "    </tr>\n",
       "  </tbody>\n",
       "</table>\n",
       "</div>"
      ],
      "text/plain": [
       "                   carat_transformed    volume\n",
       "carat_transformed           1.000000  0.805735\n",
       "volume                      0.805735  1.000000"
      ]
     },
     "execution_count": 91,
     "metadata": {},
     "output_type": "execute_result"
    }
   ],
   "source": [
    "correlation_matrix = X_train.corr()\n",
    "correlation_matrix"
   ]
  },
  {
   "cell_type": "code",
   "execution_count": null,
   "id": "61035401",
   "metadata": {},
   "outputs": [],
   "source": []
  }
 ],
 "metadata": {
  "kernelspec": {
   "display_name": "Python 3",
   "language": "python",
   "name": "python3"
  },
  "language_info": {
   "codemirror_mode": {
    "name": "ipython",
    "version": 3
   },
   "file_extension": ".py",
   "mimetype": "text/x-python",
   "name": "python",
   "nbconvert_exporter": "python",
   "pygments_lexer": "ipython3",
   "version": "3.6.10"
  }
 },
 "nbformat": 4,
 "nbformat_minor": 5
}
